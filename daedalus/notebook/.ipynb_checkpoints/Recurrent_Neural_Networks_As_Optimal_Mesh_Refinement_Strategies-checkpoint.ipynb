{
 "cells": [
  {
   "cell_type": "markdown",
   "metadata": {
    "colab_type": "text",
    "id": "uQOFRLuxJGAP"
   },
   "source": [
    "# Recurrent Neural Networks as Optimal Mesh Refinement Strategies\n",
    "\n",
    "Based on the paper [Recurrent Neural Networks as Optimal Mesh Refinement Strategies (2019)](https://arxiv.org/pdf/1909.04275.pdf) by Jan Bohn and Michael Feischl. \n",
    "\n",
    "**Author:** Viet Duc Nguyen\n",
    "\n",
    "**Date:** 02/06/2020"
   ]
  },
  {
   "cell_type": "code",
   "execution_count": 0,
   "metadata": {
    "colab": {},
    "colab_type": "code",
    "id": "NF11gy1ugZ_1"
   },
   "outputs": [],
   "source": [
    "import numpy as np"
   ]
  },
  {
   "cell_type": "markdown",
   "metadata": {
    "colab_type": "text",
    "id": "XR9LYYFS9C_1"
   },
   "source": [
    "## Basic Building Blocks"
   ]
  },
  {
   "cell_type": "markdown",
   "metadata": {
    "colab_type": "text",
    "id": "DcGSY7LKe0qi"
   },
   "source": [
    "**Lemma 6.**\n",
    "Let $\\delta \\in 2^{\\mathcal E}$ and $n = |\\log_2(\\delta)|$. Let $\\mathbf x = (x,0,...,0) \\in \\mathbb R^n_{\\delta}$. Then, $\\mathbf y = \\mathrm{IF}(\\mathbf x)$ is defined as\n",
    "\n",
    "$$\n",
    "    y_n = \\begin{cases}\n",
    "        1 &\\quad x \\geq 2^{-n}\\\\\n",
    "        0 &\\quad x \\leq 0\n",
    "    \\end{cases}.\n",
    "$$\n",
    "\n",
    "The neural network can be constructed as follows\n",
    "\n",
    "\\begin{align*}\n",
    "    \\begin{cases}\n",
    "        y_{0} &= 0 \\\\\n",
    "        y_i &= \\min(2z_i, 1) \\\\\n",
    "        z_i &= \\max(y_{i-1} + x_i, 0)\n",
    "    \\end{cases}\n",
    "    \\quad \\forall i=1,...,n.\n",
    "\\end{align*}\n",
    "\n",
    "Note that if $0 < x < \\delta$, then $y_n < 1$ due to $y_n= 2^nx < 2^n \\delta = 2^n 2^{-n} = 1$.\n",
    "\n",
    "---\n",
    "\n",
    "Next, we would like to generalize **Lemma 6**. Let $\\delta \\in 2^{\\mathcal E}$ and $x' \\in [0,M]$ for a fixed constant $M \\in \\{ 2^k : k \\in \\mathbb N\\}$. Choose $n = |\\log_2(\\delta)| + \\log_2(M)$. We construct an $\\mathrm{IF}$ operator with $\\mathbf y = \\mathrm{IF}(\\mathbf x, x')$ that satisfies\n",
    "\n",
    "$$\n",
    "    y_n = \\begin{cases}\n",
    "        x' &\\quad x \\geq 2^{-n}\\\\\n",
    "        0 &\\quad x \\leq 0\n",
    "    \\end{cases}.\n",
    "$$\n",
    "\n",
    "We can use the same building block as before where we only need to adjust $y_i$:\n",
    "\n",
    "\\begin{align*}\n",
    "    \\begin{cases}\n",
    "        y_{0} &= 0 \\\\\n",
    "        y_i &= \\min(2z_i, x') \\\\\n",
    "        z_i &= \\max(y_{i-1} + x_i, 0)\n",
    "    \\end{cases}\n",
    "    \\quad \\forall i=1,...,n.\n",
    "\\end{align*}\n",
    "\n",
    "Since we increased the size of the input vector $\\mathbf x \\in \\mathbb R^n_{\\delta}$ to $n =  |\\log_2(\\delta)| + \\log_2(M)$ instead of $n =  |\\log_2(\\delta)|$ we ensured that $2z_n \\geq M \\geq x'$, which implies that $y_n = \\min(2z_n, x') = x'$.\n",
    "\n",
    "In the paper, $n$ is chosen such that $n \\geq 52 + \\log_2(\\delta) + \\log_2(M)$. This is still not clear to me.\n",
    "\n",
    "**Lemma 6.1.**"
   ]
  },
  {
   "cell_type": "code",
   "execution_count": 0,
   "metadata": {
    "colab": {},
    "colab_type": "code",
    "id": "m-KbfurMgjsI"
   },
   "outputs": [],
   "source": [
    "\"\"\"Return max(x,0)\"\"\"\n",
    "def ReLU(x):\n",
    "    return np.fmax(x,0)\n",
    "\n",
    "\"\"\"Return max(x,y)\"\"\"\n",
    "def MAX(x, y):\n",
    "    return ReLU(x-y) + y\n",
    "\n",
    "\"\"\"Return min(x,0) = -ReLU(-x,0)\"\"\"\n",
    "def MIN(x, y=0):\n",
    "    return -ReLU(-(x-y)) + y\n",
    "\n",
    "\"\"\"\n",
    "IF(x): Returns x' if x >= 2^(-n)\n",
    "\"\"\"\n",
    "def IF(x, x_prime = 1):\n",
    "    # Initialization\n",
    "    n = x.shape[0]\n",
    "    y = np.empty(n+1)\n",
    "    y[-1] = 0\n",
    "\n",
    "    #if n - 52 - np.log2(x_prime) >= -np.log2(x[0]):\n",
    "    #    print(\"Warning IF(x,x'): Increase dimension of input vector n\")\n",
    "\n",
    "    for i in range(n):\n",
    "        z = ReLU(y[i-1] + x[i])\n",
    "        y[i] = MIN(2*z, x_prime)\n",
    "\n",
    "    return y[:n]"
   ]
  },
  {
   "cell_type": "code",
   "execution_count": 0,
   "metadata": {
    "colab": {},
    "colab_type": "code",
    "id": "Cj7ePmYRuDef"
   },
   "outputs": [],
   "source": [
    "\"\"\"Return vector of dimension `length` with x[0] = x0\"\"\"\n",
    "def VECTOR(x0, length = 52):\n",
    "    x = np.zeros(length, dtype=np.float64)\n",
    "    x[0] = x0\n",
    "    return x"
   ]
  },
  {
   "cell_type": "markdown",
   "metadata": {
    "colab_type": "text",
    "id": "m63870GuwVKw"
   },
   "source": [
    "**Remark 7.**\n",
    "The goal of this lemma is to emulate a non-continuous function with a RNN. The precision error of a *double* number $x \\approx 1$ is limited by $2^{-52}$. Hence, for $x < 2^{-52}$ the calculation $\\tilde x = (x +_{\\mathrm{double}}1)-1$ will yield $\\tilde x = 0$. This implies that the application of $\\mathrm{IF}$ in the following way\n",
    "\n",
    "$$\n",
    "    \\mathbf y = \\mathrm{IF}((\\mathbf x +_{\\mathrm{double}}1) - 1)\n",
    "$$\n",
    "\n",
    "with an input size of $n=52$ satisfies\n",
    "\n",
    "$$\n",
    "    y_n = \\begin{cases}\n",
    "        1 &\\quad x \\geq 2^{-52} \\\\\n",
    "        0 &\\quad x < 2^{-52}\n",
    "    \\end{cases}.\n",
    "$$\n",
    "\n",
    "Note that $x$ is in bit representation. If $\\tilde x = 2^{-52} - \\epsilon$ and $\\epsilon > 0$ is small enough such that $\\tilde x = 2^{-52}$ it still holds $y_n = 1$ although $x < 2^{-52}$ in real representation."
   ]
  },
  {
   "cell_type": "code",
   "execution_count": 0,
   "metadata": {
    "colab": {},
    "colab_type": "code",
    "id": "J32oLB7ihbwb"
   },
   "outputs": [],
   "source": [
    "# x0 is equal 2**-52\n",
    "x0 = np.float64(2**-52) # 2.220446049250313e-16\n",
    "x = np.zeros(52, dtype=np.float64)\n",
    "x[0] = (x0 + 1)-1\n",
    "assert IF(x)[-1] == 1, \"{} is not equal 1\".format(IF(x)[-1])\n",
    "\n",
    "# x is a little bit smaller than 2**-52\n",
    "x0 = np.float64(2**-52 - 0.000000000000001) # -7.779553950749688e-16\n",
    "x = np.zeros(52, dtype=np.float64)\n",
    "x[0] = (x0 + 1)-1\n",
    "assert IF(x)[-1] == 0, \"{} is not equal 0\".format(IF(x)[-1])\n",
    "\n",
    "# x0 is equal 2**-52 because the difference is too small\n",
    "x0 = np.float64(2**-52 - 0.0000000000000001) # 2.220446049250313e-16\n",
    "x = np.empty(52, dtype=np.float64)\n",
    "x[0] = (x0 + 1)-1\n",
    "assert IF(x)[-1] == 1, \"{} is not equal 1\".format(IF(x)[-1])"
   ]
  },
  {
   "cell_type": "markdown",
   "metadata": {
    "colab_type": "text",
    "id": "xXFXS76EE4tq"
   },
   "source": [
    "*Notation:* $\\mathbb R_\\delta = \\{0\\} \\cup \\mathbb R \\setminus (-\\delta, \\delta)$ for any real number $\\delta \\in \\mathbb R_{>0}$.\n",
    "\n",
    "In the following, we need to build the following function\n",
    "\n",
    "$$\n",
    "    x \\mapsto \\begin{cases}\n",
    "        1, & \\quad x \\geq \\alpha  \\\\\n",
    "        0, & \\quad x < \\alpha\n",
    "    \\end{cases}.\n",
    "$$\n",
    "\n",
    "As noted in the previous remark, we make use of the rounding error of the double arithmetic. Consider IEEE 757 double precision. We have **52 bits for the mantissa** and **11 bits for the exponent**. The exponent $e$ takes values in $e \\in \\{ -1022,...,1023 \\}$. Note that $-1023$ and $1024$ are reserved. IEEE 757 doubles are always normed, i.e. there is always a leading one.\n",
    "\n",
    "```\n",
    "    1  . _ _ _ _ _ _ _ _ _ _ _ _ _ _ _ _ _ _ _ _ _ _ _ _\n",
    "    ^    1 2 3 4 5 6 7 8 9 ........................... 52 \n",
    "    |\n",
    "  fixed                        52 bits\n",
    "```\n",
    "\n",
    "**Lemma 8.** We assume double arithmetic. There exists a DNN $\\hat{IF}$ such that any input $\\mathbf x = (x, 0,...,0) \\in \\mathbb R_{\\delta}^{n}$ with precision $\\delta = 2^{\\mathcal E}$ and $x' \\in [0,M]$ results in $\\mathbf y = \\hat{IF}(\\mathbf x, x')$ with\n",
    "\n",
    "$$\n",
    "    y_n = \\begin{cases}\n",
    "        x' &\\quad x > 0 \\\\\n",
    "        0 & \\quad x \\leq 0 \n",
    "    \\end{cases}.\n",
    "$$\n",
    "\n",
    "*Proof.* We define \n",
    "\n",
    "$$\\hat{\\mathrm{IF}}(\\mathbf x, x') = \\mathrm{IF}(\\underbrace{(x + \\delta 2^{52})}_{(*)} - \\delta 2^{52}, x').$$\n",
    "\n",
    "Consider the term $(*)$. Let $x < \\delta$. If one computes $x + \\delta 2^{52}$, then the precision of 52 bits doesn't suffice to obtain an accurate result of $x + \\delta 2^{52}$. Here is an illustration why: assume the mantissa can hold 3 bits.\n",
    "```\n",
    " Variable     | Value\n",
    "-------------------------------------------------\n",
    "        delta | 1 . 0 0 0 x 2^5 = 0 0 0 1 0 0 0 0\n",
    "              |  \n",
    "            x | 1 . 0 0 0 x 2^4 = 0 0 0 0 1 0 0 0\n",
    "+ 2^3 * delta | 1 . 0 0 0 x 2^8 = 1 0 0 0 0 0 0 0\n",
    "-------------------------------------------------\n",
    "                1 . 0 0 0 x 2^8 = 1 0 0 0 1 0 0 0\n",
    "                                    ^ ^ ^\n",
    "                            We can only hold 3 bits!\n",
    "```\n",
    "So, we get\n",
    "\n",
    "$$\n",
    "    (x + \\delta 2^{52}) - \\delta 2^{52} = \\begin{cases}\n",
    "        x & x \\geq \\delta\\\\\n",
    "        0 & x < \\delta\n",
    "    \\end{cases}\n",
    "$$\n",
    "\n",
    "Note that $x \\geq \\delta$, and therefore \n",
    "$$\n",
    "    (x + \\delta 2^{52}) - \\delta 2^{52} = \\begin{cases}\n",
    "        x & x > 0\\\\\n",
    "        0 & x \\leq 0\n",
    "    \\end{cases}.\n",
    "$$\n",
    "\n",
    "Now apply $\\mathrm{IF}$ and one obtains\n",
    "$$\n",
    "    \\mathrm{IF}( (x + \\delta 2^{52}) - \\delta 2^{52}, x') = \\begin{cases}\n",
    "        x' & x \\geq 2^{-n}\\\\\n",
    "        0 & x \\leq 0\n",
    "    \\end{cases}\n",
    "$$\n",
    "by definition of $\\mathrm{IF}$. We know that $x \\geq \\delta \\overset{(!)}{\\geq} 2^{-n}$. Thus, $n \\geq |\\ln (\\delta)|$."
   ]
  },
  {
   "cell_type": "markdown",
   "metadata": {
    "colab_type": "text",
    "id": "KQnp88tVKhHz"
   },
   "source": [
    "### Lemma 8: $\\hat{\\mathrm{IF}}$"
   ]
  },
  {
   "cell_type": "code",
   "execution_count": 0,
   "metadata": {
    "colab": {},
    "colab_type": "code",
    "id": "5gD6Z8o6HEtC"
   },
   "outputs": [],
   "source": [
    "def IF_HAT(x, x_prime):\n",
    "    assert np.isscalar(x_prime)\n",
    "\n",
    "    n = x.shape[0]\n",
    "    delta = 2**-n\n",
    "\n",
    "    z = (x + delta * 2**52) - delta * 2**52\n",
    "    y = IF(z, x_prime)\n",
    "\n",
    "    return y\n",
    "\n",
    "\"\"\"\n",
    "x_prime can be a vector\n",
    "\"\"\"\n",
    "def IF_HAT_MULTIDIMENSION(x, x_prime):\n",
    "    n = x_prime.shape[0]\n",
    "    y = np.zeros(n)\n",
    "    for i in range(n):\n",
    "        y[i] = IF_HAT(x, x_prime[i])[-1]\n",
    "    return y"
   ]
  },
  {
   "cell_type": "code",
   "execution_count": 0,
   "metadata": {
    "colab": {},
    "colab_type": "code",
    "id": "KxyGIP5QChiI"
   },
   "outputs": [],
   "source": [
    "x = np.zeros(20, dtype=np.float64)\n",
    "x[0] = 0.0001\n",
    "\n",
    "assert IF_HAT(x, 42)[-1] == 42\n",
    "\n",
    "x_prime = np.array([1,2,3])\n",
    "assert np.array_equal(IF_HAT_MULTIDIMENSION(x, x_prime), x_prime)"
   ]
  },
  {
   "cell_type": "markdown",
   "metadata": {
    "colab_type": "text",
    "id": "rooLghm2J5-Z"
   },
   "source": [
    "**Lemma 9.** We assume double arithmetic. There exists a DNN $\\tilde{IF}$ such that any input $\\mathbf x = (x, 0,...,0) \\in \\mathbb R_{\\delta}^{n}$ with precision $\\delta = 2^{-n}$ and $x' \\in [0,M]$ results in \n",
    "\n",
    "$$\n",
    "    y_n = \\begin{cases}\n",
    "        x' &\\quad x \\geq 0 \\\\\n",
    "        0 & \\quad x < 0 \n",
    "    \\end{cases}.\n",
    "$$"
   ]
  },
  {
   "cell_type": "code",
   "execution_count": 0,
   "metadata": {
    "colab": {},
    "colab_type": "code",
    "id": "3UXFnFWnCnxf"
   },
   "outputs": [],
   "source": [
    "def IF_TILDE(x, x_prime):\n",
    "    return x_prime - IF_HAT(-x, x_prime)"
   ]
  },
  {
   "cell_type": "code",
   "execution_count": 0,
   "metadata": {
    "colab": {
     "base_uri": "https://localhost:8080/",
     "height": 34
    },
    "colab_type": "code",
    "id": "Pw0jfnuYKC0t",
    "outputId": "60800173-e554-46be-dd48-e948a882c214"
   },
   "outputs": [
    {
     "data": {
      "text/plain": [
       "42.0"
      ]
     },
     "execution_count": 8,
     "metadata": {
      "tags": []
     },
     "output_type": "execute_result"
    }
   ],
   "source": [
    "x = np.zeros(20, dtype=np.float64)\n",
    "x[0] = 0.000\n",
    "\n",
    "IF_TILDE(x, 42)[-1]"
   ]
  },
  {
   "cell_type": "markdown",
   "metadata": {
    "colab_type": "text",
    "id": "1zsb6uI4KWmF"
   },
   "source": [
    "## Emulate the error estimate"
   ]
  },
  {
   "cell_type": "code",
   "execution_count": 0,
   "metadata": {
    "colab": {},
    "colab_type": "code",
    "id": "QQNEb8D3KEbX"
   },
   "outputs": [],
   "source": [
    "\"\"\"Saw tooth function\"\"\"\n",
    "def g(x):\n",
    "    return 2 * ReLU(x) - 4 * ReLU(x - 0.5) + 2 * ReLU(x-1)"
   ]
  },
  {
   "cell_type": "markdown",
   "metadata": {
    "colab_type": "text",
    "id": "oDOgREtw8ngV"
   },
   "source": [
    "### Theorem 10: Square"
   ]
  },
  {
   "cell_type": "markdown",
   "metadata": {
    "colab_type": "text",
    "id": "wFHU7NLy5j3c"
   },
   "source": [
    "**Theorem 10.** For every $n \\in \\mathbb N$, there exists a RNN SQUARE such that the output $\\mathbf y = \\mathrm{SQUARE}(\\mathbf x) = (y_1,...,y_{n-1}, \\tilde{x_0^2})$ for an input vector $\\mathbf x = (x_0,0,...,0) \\in [0,1]^n$ satisfies\n",
    "\n",
    "$$\n",
    "    y_n = x_0 - \\sum^n_{j=1} \\frac{g^{(j)}(x_0)}{4^j} \\approx x_0^2 \\quad \\text{and} \\quad |y_n - x_0^2| \\leq \\frac{2x_0}{4^n},\n",
    "$$\n",
    "\n",
    "where $g^{(j)}(x_0) = \\underbrace{g(g(...g(x_0)))}_{\\text{$j$-times}}$."
   ]
  },
  {
   "cell_type": "code",
   "execution_count": 0,
   "metadata": {
    "colab": {},
    "colab_type": "code",
    "id": "TU_JjfqyLvlC"
   },
   "outputs": [],
   "source": [
    "\"\"\"Return x**2\"\"\"\n",
    "def SQUARE(x):\n",
    "    n = x.shape[0]\n",
    "    x0 = x[0]\n",
    "    \n",
    "    x_prime = np.empty(n+1)\n",
    "    x_prime[-1] = x0\n",
    "    for i in range(n):\n",
    "        x_prime[i] = g(x_prime[i-1])\n",
    "    x_prime = x_prime[:-1]\n",
    "\n",
    "    y = np.empty(n+1)\n",
    "    y[-1] = 0\n",
    "    for i in range(n):\n",
    "        y[i] = x_prime[i] + 4*y[i-1]\n",
    "    y = y[:-1]\n",
    "    y_n = y[-1]\n",
    "\n",
    "    z = np.empty(n+1)\n",
    "    z[-1] = y_n\n",
    "    for i in range(n+1):\n",
    "        z[i] = z[i-1] / 4\n",
    "    z = z[:-1]\n",
    "    z_n = z[-1]\n",
    "\n",
    "    return x0 - z_n"
   ]
  },
  {
   "cell_type": "code",
   "execution_count": 0,
   "metadata": {
    "colab": {
     "base_uri": "https://localhost:8080/",
     "height": 51
    },
    "colab_type": "code",
    "id": "GU5gH3SXNwNG",
    "outputId": "ac1b610e-edcd-43da-bd55-78ad4b908776"
   },
   "outputs": [
    {
     "name": "stdout",
     "output_type": "stream",
     "text": [
      "Approximation of x^2.\n"
     ]
    },
    {
     "data": {
      "text/plain": [
       "0.00010000000000000113"
      ]
     },
     "execution_count": 11,
     "metadata": {
      "tags": []
     },
     "output_type": "execute_result"
    }
   ],
   "source": [
    "# Test SQUARE(x)\n",
    "print(\"Approximation of x^2.\")\n",
    "x = np.zeros(52, dtype=np.float64)\n",
    "x[0] = 0.01\n",
    "SQUARE(x) # result should be around 0.0001"
   ]
  },
  {
   "cell_type": "markdown",
   "metadata": {
    "colab_type": "text",
    "id": "Dn4GBoC1EQfl"
   },
   "source": [
    "**Proposition 11.** There exists a RNN MULTIPLY"
   ]
  },
  {
   "cell_type": "markdown",
   "metadata": {
    "colab_type": "text",
    "id": "aZpO6plHEWu1"
   },
   "source": [
    "**Proposition 11(a).** Let $n \\in \\mathbb N$. Given $\\mathbf x = (x_0,0,...,0) \\in \\mathbb R^{n}$ with $x_0 \\in [-2^{\\frac{n}{2}}, 2^{\\frac{n}{2}}]$ there exists a RNN such that the output $\\mathbf y = \\mathrm{SCALE}(\\mathbf x)$ satisfies \n",
    "\n",
    "$$\n",
    "    y_n = x_0 2^{-d} < \\frac{1}{4} + 2^{-52} \\quad \\text{for a suitable $d \\in \\mathbb N$.}\n",
    "$$\n",
    "\n",
    "In other words, we construct a RNN that scales any input $x_0$ to a value below $\\frac{1}{4} + 2^{-52}$, where $2^{-52}$ is our given precision. The last entry of the vector $\\mathbf y$ holds the downscaled value $x_0$, and the integer $d$ holds how often the value $x_0$ needs to be divided in half such that $x_0 < \\frac{1}{4}$.\n",
    "\n",
    "Initialize $\\mathbf x' \\in \\mathbb R^{n+1}$ and $\\mathbf r \\in \\{0,1\\}^{n+1}$.\n",
    "\n",
    "\\begin{align*}\n",
    "    \\begin{cases} \n",
    "        x'_{0} &= x_0 \\\\\n",
    "        r'_{0} &= 0 \\\\\n",
    "        x_i' &= \\tilde{IF}\\left(x'_{i-1} - \\frac{1}{4}, \\frac{x'_{i-1}}{2}\\right) + \\hat{IF}\\left( \\frac{1}{4} - x'_{i-1}, x'_{i-1} \\right) \\\\\n",
    "        r_i' &= \\tilde{IF}\\left(x'_{i-1} - \\frac{1}{4}, 1\\right)\n",
    "    \\end{cases} \\quad \\forall i = 1,...,n\n",
    "\\end{align*}\n",
    "\n",
    "In the end, $x'_n$ holds the desired result, and $d = ||\\mathbf r||_1$."
   ]
  },
  {
   "cell_type": "code",
   "execution_count": 0,
   "metadata": {
    "colab": {},
    "colab_type": "code",
    "id": "m9UDqQQGETHr"
   },
   "outputs": [],
   "source": [
    "def SCALE(x):\n",
    "    n = x.shape[0]\n",
    "    x0 = x[0]\n",
    "    x_prime = np.empty(n+1)\n",
    "    x_prime[-1] = x0\n",
    "    r = np.empty(n+1)\n",
    "    r[-1] = 0\n",
    "\n",
    "    for i in range(n):\n",
    "        z = np.zeros(n)\n",
    "        z[0] = x_prime[i-1] - 0.25\n",
    "        z_prime = np.zeros(n)\n",
    "        z_prime[0] = 0.25 - x_prime[i-1]\n",
    "\n",
    "        x_prime[i] = (IF_TILDE(z, x_prime[i-1]/2) + IF_HAT(z_prime, x_prime[i-1]))[-1]\n",
    "        r[i] = IF_TILDE(z, 1)[-1]\n",
    "\n",
    "    x_prime = x_prime[:-1]\n",
    "    r = r[:-1]\n",
    "\n",
    "    return x_prime[-1], r"
   ]
  },
  {
   "cell_type": "code",
   "execution_count": 0,
   "metadata": {
    "colab": {
     "base_uri": "https://localhost:8080/",
     "height": 68
    },
    "colab_type": "code",
    "id": "V85tqaglRDOf",
    "outputId": "276f4bea-b4df-45ee-d5f6-f297a28dc5e1"
   },
   "outputs": [
    {
     "name": "stdout",
     "output_type": "stream",
     "text": [
      "Downscaling of 42\n",
      "Value: 0.125\n",
      "Number of divisions: 2.0\n"
     ]
    }
   ],
   "source": [
    "# Test SCALE(x)\n",
    "print(\"Downscaling of 42\")\n",
    "x = np.zeros(52)\n",
    "x[0] = 0.5\n",
    "x_prime, r = SCALE(x)\n",
    "print(\"Value: {}\\nNumber of divisions: {}\".format(x_prime, np.sum(r)))"
   ]
  },
  {
   "cell_type": "code",
   "execution_count": 0,
   "metadata": {
    "colab": {},
    "colab_type": "code",
    "id": "D-rZrO-g9HEx"
   },
   "outputs": [],
   "source": [
    "\"\"\"Return x*y for non-negative x and y\"\"\"\n",
    "def MULTIPLY_NONNEGATIVE(x,y):\n",
    "    n = x.shape[0]\n",
    "    assert y.shape[0] == n\n",
    "    x0 = x[0]\n",
    "    y0 = y[0]\n",
    "\n",
    "    # Scaling to <0.25\n",
    "    x_scaled, r_x = SCALE(x)\n",
    "    y_scaled, r_y = SCALE(y)\n",
    "    d_x = np.sum(r_x)\n",
    "    d_y = np.sum(r_y)\n",
    "    \n",
    "    # Compute the product of the scaled values\n",
    "    xy_scaled = 0.5 * (SQUARE(VECTOR(x_scaled+y_scaled)) - SQUARE(VECTOR(x_scaled)) - SQUARE(VECTOR(y_scaled)))\n",
    "\n",
    "    # Reverse the scaling\n",
    "    z = np.empty(n+1)\n",
    "    z[-1] = xy_scaled\n",
    "    for i in range(n):\n",
    "        z[i] = (IF_HAT(VECTOR(r_x[i]), 2*z[i-1]) + IF_HAT(VECTOR(r_y[i]), 2*z[i-1]) + + IF_TILDE(VECTOR(-r_x[i] - r_y[i]), z[i-1]))[-1]\n",
    "    z = z[:-1]\n",
    "    product = z[-1]\n",
    "\n",
    "    return product"
   ]
  },
  {
   "cell_type": "code",
   "execution_count": 0,
   "metadata": {
    "colab": {
     "base_uri": "https://localhost:8080/",
     "height": 51
    },
    "colab_type": "code",
    "id": "zOjf0LDfAkbN",
    "outputId": "3589a8a5-7aa5-4402-cafa-c4e44ba53664"
   },
   "outputs": [
    {
     "name": "stdout",
     "output_type": "stream",
     "text": [
      "Compute the product of 100 times 100.\n",
      "Result is 100.0\n"
     ]
    }
   ],
   "source": [
    "print(\"Compute the product of 100 times 100.\")\n",
    "x = np.zeros(52)\n",
    "y = np.zeros(52)\n",
    "x[0] = 10\n",
    "y[0] = 10\n",
    "print(\"Result is {}\".format(MULTIPLY_NONNEGATIVE(x,y)))"
   ]
  },
  {
   "cell_type": "markdown",
   "metadata": {
    "colab_type": "text",
    "id": "V9ZyHFuoAhh6"
   },
   "source": [
    "So far, we have only realized the multiplication operator for non-negative inputs. For general input, one can use the following formula\n",
    "\n",
    "$$\n",
    "    x \\dot y = (x_+ - x_-)\\cdot(y_+ - y_-) = x_+y_+ - x_+y_- - x_-y_+ + x_-y_-.\n",
    "$$"
   ]
  },
  {
   "cell_type": "code",
   "execution_count": 0,
   "metadata": {
    "colab": {},
    "colab_type": "code",
    "id": "8ZIlsw4XAiNE"
   },
   "outputs": [],
   "source": [
    "def MULTIPLY(x,y):\n",
    "    x_pos = VECTOR(ReLU(x))\n",
    "    x_neg = VECTOR(ReLU(-x))\n",
    "    y_pos = VECTOR(ReLU(y))\n",
    "    y_neg = VECTOR(ReLU(-y))\n",
    "\n",
    "    return MULTIPLY_NONNEGATIVE(x_pos, y_pos) - MULTIPLY_NONNEGATIVE(x_pos, y_neg) - MULTIPLY_NONNEGATIVE(x_neg, y_pos) + MULTIPLY_NONNEGATIVE(x_neg, y_neg)"
   ]
  },
  {
   "cell_type": "code",
   "execution_count": 0,
   "metadata": {
    "colab": {},
    "colab_type": "code",
    "id": "CGujal_SrNPj"
   },
   "outputs": [],
   "source": [
    "assert MULTIPLY(-10,-10) == -10 * -10\n",
    "assert MULTIPLY(10,-10) == -10 * 10 \n",
    "assert MULTIPLY(-10,10) == -10 * 10\n",
    "assert MULTIPLY(10,10) == 10 * 10\n",
    "assert MULTIPLY(10,0) == 0\n",
    "assert MULTIPLY(0,10) == 0\n",
    "assert MULTIPLY(-10,0) == 0\n",
    "assert MULTIPLY(0,-10) == 0\n",
    "assert MULTIPLY(0,0) == 0"
   ]
  },
  {
   "cell_type": "code",
   "execution_count": 0,
   "metadata": {
    "colab": {},
    "colab_type": "code",
    "id": "76oYgGnDBcO8"
   },
   "outputs": [],
   "source": [
    "def ABS(x):\n",
    "    return ReLU(x) + ReLU(-x)"
   ]
  },
  {
   "cell_type": "markdown",
   "metadata": {
    "colab_type": "text",
    "id": "SsJZvggd2tPd"
   },
   "source": [
    "\n",
    "**Lemma 13.** Let $T \\subset \\mathbb R^d$, $d \\in \\mathbb N$. Then, the diameter of $T$ is defined as\n",
    "\n",
    "$$\n",
    "    \\mathrm{diam}_\\infty(T) = \\max_{x,y \\in T} || x-y||_\\infty,\n",
    "$$\n",
    "\n",
    "where\n",
    "\n",
    "$$\n",
    "    ||x-y||_\\infty = \\max_{i = 1,...,d}(||x_i - y_i||).\n",
    "$$\n"
   ]
  },
  {
   "cell_type": "code",
   "execution_count": 0,
   "metadata": {
    "colab": {},
    "colab_type": "code",
    "id": "YAVTlDnMCcS0"
   },
   "outputs": [],
   "source": [
    "def INFINITY_NORM(x):\n",
    "    n = x.shape[0]\n",
    "    y = np.empty(n)\n",
    "    y[0] = ABS(x[0])\n",
    "\n",
    "    for i in range(1,n):\n",
    "        y[i] = MAX(ABS(x[i]),y[i-1])\n",
    "    \n",
    "    return y[-1]"
   ]
  },
  {
   "cell_type": "code",
   "execution_count": 0,
   "metadata": {
    "colab": {
     "base_uri": "https://localhost:8080/",
     "height": 34
    },
    "colab_type": "code",
    "id": "7kFMt0Xs6Ij4",
    "outputId": "b12d7c38-e7f7-44f7-b977-fde8425f62e1"
   },
   "outputs": [
    {
     "data": {
      "text/plain": [
       "100000000.0"
      ]
     },
     "execution_count": 20,
     "metadata": {
      "tags": []
     },
     "output_type": "execute_result"
    }
   ],
   "source": [
    "x = np.array([-100000000,4,-2,-1,-4,-6,-7,-7,-5,-100])\n",
    "INFINITY_NORM(x)"
   ]
  },
  {
   "cell_type": "code",
   "execution_count": 0,
   "metadata": {
    "colab": {},
    "colab_type": "code",
    "id": "Bz0y8vkB6b3e"
   },
   "outputs": [],
   "source": [
    "def DIAM(T):\n",
    "    size = T.shape[0]\n",
    "    y = np.empty(np.math.factorial(size - 1) + 1)\n",
    "    y[-1] = -np.inf\n",
    "    c = 0\n",
    "\n",
    "    for i in range(size):\n",
    "        for j in range(i+1,size):\n",
    "            y[c] = MAX(y[c-1], INFINITY_NORM(T[i]-T[j]))\n",
    "            c = c + 1\n",
    "    y = y[:-1]\n",
    "\n",
    "    return y"
   ]
  },
  {
   "cell_type": "code",
   "execution_count": 0,
   "metadata": {
    "colab": {
     "base_uri": "https://localhost:8080/",
     "height": 51
    },
    "colab_type": "code",
    "id": "36PFCzwCCeR6",
    "outputId": "897aa22c-86fe-482e-e3f8-f055a91ff54f"
   },
   "outputs": [
    {
     "data": {
      "text/plain": [
       "array([4.99000000e+02, 9.99990000e+06, 1.00000001e+10, 1.00000001e+10,\n",
       "       1.00000001e+10, 1.00100000e+10])"
      ]
     },
     "execution_count": 22,
     "metadata": {
      "tags": []
     },
     "output_type": "execute_result"
    }
   ],
   "source": [
    "T = np.array([\n",
    "    np.array([500,0,100]), \n",
    "    np.array([1,1,1]), \n",
    "    np.array([-1000,1,10000000]), \n",
    "    np.array([1,1,-9999999999])\n",
    "])\n",
    "DIAM(T)"
   ]
  },
  {
   "cell_type": "markdown",
   "metadata": {
    "colab_type": "text",
    "id": "pS9B8gKcaDol"
   },
   "source": [
    "## Dörfler Marking"
   ]
  },
  {
   "cell_type": "markdown",
   "metadata": {
    "colab_type": "text",
    "id": "DAxDAIrprBHr"
   },
   "source": [
    "###Lemma 17: CHOOSE and F \n",
    "Given a precision $\\delta \\in 2^{\\mathcal E + 52}$, there exists a RNN CHOOSE such that for any input $\\mathbf x \\in \\mathbb R^n_{\\delta +} \\cap [0,M]^n$ and $z \\in \\mathbb R_{\\delta}$ results in an output $\\mathbf y = \\mathrm{CHOOSE}(\\mathbf x, z)$ with \n",
    "$$\n",
    "    \\mathbf y = \\begin{cases}\n",
    "        \\mathbf x, \\quad &{z \\geq 0} \\\\\n",
    "        0 & {z < 0}\n",
    "    \\end{cases}.\n",
    "$$\n",
    "\n",
    "*Proof.* Use $\\tilde{\\mathrm{IF}}$ with a precision $\\delta 2^{-52}$, and use it in the following way\n",
    "$$\n",
    "    F(x,y) = \\max(x-y,0) + \\tilde{\\mathrm{IF}}(x-y, y)= \\begin{cases}\n",
    "        x, \\quad x \\geq y \\\\\n",
    "        0, \\quad x < y\n",
    "    \\end{cases}.\n",
    "$$\n",
    "Note that for $\\tilde{\\mathrm{IF}}(x-y, y)$ to work it must hold that $x-y$ has a precision in $2^{\\mathcal E}$. Since $|x-y| \\geq \\delta 2^{-52}$ it follows $\\delta \\in 2^{\\mathcal E + 52}$.\n",
    "\n",
    "Now set\n",
    "$$\n",
    "    y_i = F(x_i + z, x_i) - \\max(z,0).\n",
    "$$"
   ]
  },
  {
   "cell_type": "code",
   "execution_count": 0,
   "metadata": {
    "colab": {},
    "colab_type": "code",
    "id": "MPQpKyGDEv3X"
   },
   "outputs": [],
   "source": [
    "\"\"\"\n",
    "Returns x if x >= y\n",
    "\"\"\"\n",
    "def F(x,y):\n",
    "    assert np.isscalar(y)\n",
    "\n",
    "    if np.isscalar(x):\n",
    "        return MAX(x-y, 0) + IF_TILDE(VECTOR(x-y, length = 52), y)[-1] # returns a scalar\n",
    "\n",
    "    n = x.shape[0]    \n",
    "    output = np.zeros(n)\n",
    "    for i in range(n):\n",
    "        output[i] = MAX(x[i]-y, 0) + IF_TILDE(VECTOR(x[i]-y, length = 52), y)[-1] # returns a scalar\n",
    "    return output\n",
    "\n",
    "\"\"\"Returns x if z >= 0\"\"\"\n",
    "def CHOOSE(x, z):\n",
    "    n = x.shape[0]\n",
    "    y = np.zeros(n)\n",
    "    for i in range(n):\n",
    "        y[i] = F(x[i] + z, x[i]) - MAX(z,0)\n",
    "    return y # returns a vector"
   ]
  },
  {
   "cell_type": "code",
   "execution_count": 0,
   "metadata": {
    "colab": {
     "base_uri": "https://localhost:8080/",
     "height": 102
    },
    "colab_type": "code",
    "id": "pf7C0vl7wFiZ",
    "outputId": "949749fa-2f30-498f-801a-3840cca275e8"
   },
   "outputs": [
    {
     "name": "stdout",
     "output_type": "stream",
     "text": [
      "Should return x if y >= 0\n"
     ]
    },
    {
     "data": {
      "text/plain": [
       "array([1., 1., 1., 1., 1., 1., 1., 1., 1., 1., 1., 1., 1., 1., 1., 1., 1.,\n",
       "       1., 1., 1., 1., 1., 1., 1., 1., 1., 1., 1., 1., 1., 1., 1., 1., 1.,\n",
       "       1., 1., 1., 1., 1., 1., 1., 1., 1., 1., 1., 1., 1., 1., 1., 1., 1.,\n",
       "       1.])"
      ]
     },
     "execution_count": 24,
     "metadata": {
      "tags": []
     },
     "output_type": "execute_result"
    }
   ],
   "source": [
    "x = np.ones(52)\n",
    "y = 0.1\n",
    "print(\"Should return x if y >= 0\")\n",
    "CHOOSE(x, y)"
   ]
  },
  {
   "cell_type": "markdown",
   "metadata": {
    "colab_type": "text",
    "id": "FOdJXr1K1w1s"
   },
   "source": [
    "###Lemma 18: $\\tilde{\\mathrm{CHOOSE}}$\n",
    " Given a precision $\\delta \\in 2^{\\mathcal E + 52}$, there exists a RNN $\\tilde{\\mathrm{CHOOSE}}$ such that for any input $\\mathbf x \\in \\mathbb R^n_{\\delta +} \\cap [0,M]^n$ and $z \\in \\mathbb R_{\\delta}$ results in an output $\\mathbf y = \\tilde{\\mathrm{CHOOSE}}(\\mathbf x, z)$ with \n",
    "$$\n",
    "    \\mathbf y = \\begin{cases}\n",
    "        \\mathbf x, \\quad &{z > 0} \\\\\n",
    "        0 & {z \\leq 0}\n",
    "    \\end{cases}.\n",
    "$$\n",
    "\n",
    "*Proof.* Use $\\tilde{\\mathrm{IF}}$ with a precision $\\delta 2^{-52}$, and use it in the following way\n",
    "$$\n",
    "    F(x,y) = \\max(x-y,0) + \\hat{\\mathrm{IF}}(x-y, y)= \\begin{cases}\n",
    "        x, \\quad x > y \\\\\n",
    "        0, \\quad x \\leq y\n",
    "    \\end{cases}.\n",
    "$$"
   ]
  },
  {
   "cell_type": "code",
   "execution_count": 0,
   "metadata": {
    "colab": {},
    "colab_type": "code",
    "id": "pDFh_ikH1wJc"
   },
   "outputs": [],
   "source": [
    "\"\"\"Returns x if z >= 0\"\"\"\n",
    "def CHOOSE_TILDE(x, z):\n",
    "    def F(x,y):\n",
    "        return MAX(x-y, 0) + IF_HAT(VECTOR(x-y, length = 52), y)[-1]\n",
    "    n = x.shape[0]\n",
    "    y = np.zeros(n)\n",
    "    for i in range(n):\n",
    "        y[i] = F(x[i] + z, x[i]) - MAX(z,0)\n",
    "    return y"
   ]
  },
  {
   "cell_type": "code",
   "execution_count": 0,
   "metadata": {
    "colab": {
     "base_uri": "https://localhost:8080/",
     "height": 85
    },
    "colab_type": "code",
    "id": "uxhn6KsLwPVJ",
    "outputId": "1f213248-6958-49d1-a6cc-1663c46ceb31"
   },
   "outputs": [
    {
     "name": "stdout",
     "output_type": "stream",
     "text": [
      "Should return x if z > 0\n",
      "Passed\n",
      "Should return x if z > 0\n",
      "Passed\n"
     ]
    }
   ],
   "source": [
    "x = np.ones(52)\n",
    "z = 1\n",
    "print(\"Should return x if z > 0\")\n",
    "assert np.array_equal(CHOOSE_TILDE(x, z), np.ones(52))\n",
    "print(\"Passed\")\n",
    "\n",
    "x = np.ones(52)\n",
    "z = 0\n",
    "print(\"Should return x if z > 0\")\n",
    "assert np.array_equal(CHOOSE_TILDE(x, z), np.zeros(52))\n",
    "print(\"Passed\")"
   ]
  },
  {
   "cell_type": "markdown",
   "metadata": {
    "colab_type": "text",
    "id": "PxcFlLdP4vAV"
   },
   "source": [
    "###Lemma 19: NONZERO\n",
    "Given a precision $\\delta \\in 2^{\\mathcal E}$, there exists a RNN $\\mathrm{NONZERO}$ such that for any input $\\mathbf x, \\mathbf x' \\in (\\mathbb R_{\\delta +} \\cap [0,M])^n$ the output $\\mathbf y = \\mathrm{NONZERO}(\\mathbf x, \\mathbf x')$ satisfies\n",
    "\n",
    "\\begin{align*}\n",
    "    \\forall j \\in \\{ i,...,n \\}: y_j = x_i , \\text{where $i$ is the first index with $x_i \\neq 0$ and $x_i' = 0$}\n",
    "\\end{align*}\n",
    "and \n",
    "\\begin{align*}\n",
    "    \\forall j \\in \\{ 1,...,i-1 \\}: y_j = 0.\n",
    "\\end{align*}\n",
    "\n",
    "*Example.* $\\mathbf x = (0,1,2,3,4,5)$ and $\\mathbf x' = (0,1,2,0,4,5)$. Then, $\\mathbf y = \\mathrm{NONZERO}(\\mathbf x, \\mathbf x') = (0, 0, 0, 3, 3, 3)$.\n",
    "\n",
    "*Proof.* Use the building block\n",
    "\n",
    "$$\n",
    "    y_i = B(x_i, x_i', y_{i-1}) = y_{i-1} + F(x_i - y_{i-1}, x_i) - \\hat{\\mathrm{IF}}(F(x_i' - y_{i-1}, x_i'), y_{i-1} + F(x_i - y_{i-1}, x_i))\n",
    "$$"
   ]
  },
  {
   "cell_type": "code",
   "execution_count": 0,
   "metadata": {
    "colab": {},
    "colab_type": "code",
    "id": "HvQl-Cat4yKk"
   },
   "outputs": [],
   "source": [
    "def NONZERO(x, x_prime):\n",
    "    \"\"\"\n",
    "    x, x_prime, y: scalar values\n",
    "    Returns: scalar\n",
    "    \"\"\"\n",
    "    def B(x, x_prime, y):\n",
    "        return y + F(x-y,x) - IF_HAT(VECTOR(F(x_prime - y, x_prime)), y + F(x-y,x))[-1]\n",
    "    assert x.shape == x_prime.shape\n",
    "    n = x.shape[0]\n",
    "    y = np.zeros(n+1)\n",
    "    y[-1] = B(0,0,0)\n",
    "    for i in range(n):\n",
    "        y[i] = B(x[i], x_prime[i], y[i-1])\n",
    "    return y[:-1]"
   ]
  },
  {
   "cell_type": "code",
   "execution_count": 0,
   "metadata": {
    "colab": {
     "base_uri": "https://localhost:8080/",
     "height": 102
    },
    "colab_type": "code",
    "id": "1Hrvbk5qxEIc",
    "outputId": "0e77450e-b530-430d-83f7-67fcd740e040"
   },
   "outputs": [
    {
     "name": "stdout",
     "output_type": "stream",
     "text": [
      "Test passed\n",
      "Test passed\n",
      "Test passed\n",
      "Test passed\n",
      "Test passed\n"
     ]
    }
   ],
   "source": [
    "x = np.array([0,1,2,3,4,5])\n",
    "x_prime = np.array([0,1,2,0,4,5])\n",
    "y = NONZERO(x, x_prime)\n",
    "assert np.array_equal(y, np.array([0,0,0,3,3,3]))\n",
    "print(\"Test passed\")\n",
    "\n",
    "x = np.array([2,1,2,3,4,5])\n",
    "x_prime = np.array([0,1,2,0,4,5])\n",
    "y = NONZERO(x, x_prime)\n",
    "assert np.array_equal(y, np.array([2,2,2,2,2,2]))\n",
    "print(\"Test passed\")\n",
    "\n",
    "x = np.array([2,1,2,3,4,4])\n",
    "x_prime = np.array([1,1,2,2,4,0])\n",
    "y = NONZERO(x, x_prime)\n",
    "assert np.array_equal(y, np.array([0,0,0,0,0,4]))\n",
    "print(\"Test passed\")\n",
    "\n",
    "x = np.array([1,1,2,3,4,5])\n",
    "x_prime = np.array([1,1,2,0,4,5])\n",
    "y = NONZERO(x, x_prime)\n",
    "assert np.array_equal(y, np.array([0,0,0,3,3,3]))\n",
    "print(\"Test passed\")\n",
    "\n",
    "x = np.array([0,1,2,3,4,5])\n",
    "x_prime = np.array([1,1,2,1,4,5])\n",
    "y = NONZERO(x, x_prime)\n",
    "assert np.array_equal(y, np.array([0,0,0,0,0,0]))\n",
    "print(\"Test passed\")"
   ]
  },
  {
   "cell_type": "markdown",
   "metadata": {
    "colab_type": "text",
    "id": "B0Q4Esfs3PHK"
   },
   "source": [
    "### Lemma 20: SHIFT\n",
    "\n",
    "There exists a RNN $\\mathrm{SHIFT}$ such that any input $\\mathbf x \\in \\mathbb R^n$ results in an output $\\mathbf y = \\mathrm{SHIFT}(x) \\in \\mathbb R^n$ with\n",
    "\n",
    "$$\n",
    "    y_1 = 0, \\quad \\text{and} \\quad y_i = x_{i-1} \\quad \\forall i = 2,...,n.\n",
    "$$\n",
    "\n",
    "*Proof.* Consider $\\mathbf y \\in \\mathbb R^{n \\times 2}$, of which only the first column $y_{i,1}$ is of interest for the user. The building block reads\n",
    "\n",
    "$$\n",
    "    (y_{i,1}, y_{i,2}) = (y_{i-1,2}, x_i),\n",
    "$$\n",
    "\n",
    "and $(y_{1,1}, y_{1,2}) = (0, x_1)$."
   ]
  },
  {
   "cell_type": "code",
   "execution_count": 0,
   "metadata": {
    "colab": {},
    "colab_type": "code",
    "id": "mXoKb2Ro3VhP"
   },
   "outputs": [],
   "source": [
    "\"\"\"\n",
    "x: Vector\n",
    "\"\"\"\n",
    "def SHIFT(x):\n",
    "    n = x.shape[0]\n",
    "    y = np.zeros((n,2))\n",
    "    y[0] = np.array([0, x[0]])\n",
    "    for i in range(1,n):\n",
    "        y[i] = np.array([y[i-1, 1], x[i]])\n",
    "    return y[:,0]"
   ]
  },
  {
   "cell_type": "code",
   "execution_count": 0,
   "metadata": {
    "colab": {
     "base_uri": "https://localhost:8080/",
     "height": 34
    },
    "colab_type": "code",
    "id": "zvPRnMKp5wZ8",
    "outputId": "a862d454-1db8-4c50-9b60-db88e4ba55b5"
   },
   "outputs": [
    {
     "name": "stdout",
     "output_type": "stream",
     "text": [
      "Test passed\n"
     ]
    }
   ],
   "source": [
    "x = np.array([2,203,13,1,2,3])\n",
    "SHIFT(x)\n",
    "assert np.array_equal(SHIFT(x), np.array([0,2,203,13,1,2]))\n",
    "print(\"Test passed\")"
   ]
  },
  {
   "cell_type": "markdown",
   "metadata": {
    "colab_type": "text",
    "id": "36rRe1HCORwZ"
   },
   "source": [
    "## Quick-Mark Algorithm\n"
   ]
  },
  {
   "cell_type": "markdown",
   "metadata": {
    "colab_type": "text",
    "id": "H-gYQSxpOhvi"
   },
   "source": [
    "### Theorem 21: MARK"
   ]
  },
  {
   "cell_type": "code",
   "execution_count": 0,
   "metadata": {
    "colab": {},
    "colab_type": "code",
    "id": "BDHG-Ah-5_c6"
   },
   "outputs": [],
   "source": [
    "\"\"\"\n",
    "x: Array of error estimates\n",
    "z1: array of previously used pivots\n",
    "z2: array of marked elements\n",
    "S0: sum of already marked elements \n",
    "S1: overall sum before the start of algorithm\n",
    "\"\"\"\n",
    "def MARK(x, z1, z2, S0, S1, theta):\n",
    "    n = x.shape[0]\n",
    "\n",
    "    # Find first non-zero element of x that has not been used as pivot\n",
    "    y1 = NONZERO(x, z1)\n",
    "    __y1idx = (y1 != 0).argmax()\n",
    "\n",
    "    print(\"Pivot found at index i={} with value v={}.\".format(__y1idx, y1[-1]))\n",
    "\n",
    "    y2 = F(x, y1[-1])\n",
    "\n",
    "    xgreq = y2\n",
    "    xless = x - xgreq \n",
    "    y1 = SHIFT(y1)\n",
    "    z1 = z1 + y1[-1] - y1\n",
    "    #assert z1[__y1idx] != 0 # check that the just picked index of z1 has nonzero value so that it cannot be picked anymore\n",
    "\n",
    "    Sgreq = np.sum(xgreq)\n",
    "    C1 = (S0 + Sgreq - theta * S1) # if this is >= 0 then xgreq contains enough elements to satisfy the marking criterion; therefore drop xless\n",
    "    C2 = theta * S1 - S0\n",
    "\n",
    "    # check if C1 >= 0\n",
    "    y1 = CHOOSE(xgreq, C1)\n",
    "\n",
    "    y2 = CHOOSE_TILDE(xless, -C1)\n",
    "\n",
    "    x = y1 + y2\n",
    "\n",
    "    y1 = F(Sgreq, C2)\n",
    "\n",
    "    y2 = IF_HAT_MULTIDIMENSION(VECTOR(-C1), xgreq)\n",
    "\n",
    "    S0 = S0 + Sgreq - y1\n",
    "    z2 = z2 + y2\n",
    "\n",
    "    return x, z1, z2, S0, S1, theta"
   ]
  },
  {
   "cell_type": "code",
   "execution_count": 0,
   "metadata": {
    "colab": {
     "base_uri": "https://localhost:8080/",
     "height": 255
    },
    "colab_type": "code",
    "id": "ZIu1bww8iKMv",
    "outputId": "1004e1e6-0f1c-44d4-cd97-6544a2a107c9"
   },
   "outputs": [
    {
     "name": "stdout",
     "output_type": "stream",
     "text": [
      "[ 5 15  3  4  1  2]\n",
      "Pivot found at index i=0 with value v=5.0.\n",
      "Pivot found at index i=2 with value v=3.0.\n",
      "Pivot found at index i=3 with value v=4.0.\n",
      "Pivot found at index i=0 with value v=0.0.\n",
      "Pivot found at index i=0 with value v=0.0.\n",
      "Pivot found at index i=0 with value v=0.0.\n",
      "\n",
      "Result\n",
      "              x = [0. 0. 3. 0. 0. 0.]\n",
      " Pivot elements = [12.  7.  7.  4.  0.  0.]\n",
      "Marked elements = [ 5. 15.  0.  4.  0.  0.]\n",
      "     Marked sum = 24.0\n",
      "       Goal sum = 27.0\n"
     ]
    }
   ],
   "source": [
    "x = np.array([1,2,3,4,5,15])\n",
    "theta = 0.9\n",
    "z1 = np.array([0,0,0,0,0,0])\n",
    "z2 = np.array([0,0,0,0,0,0])\n",
    "S0 = 0\n",
    "S1 = 30\n",
    "\n",
    "np.random.shuffle(x)\n",
    "print(x)\n",
    "\n",
    "res = (x,z1,z2,S0,S1,theta)\n",
    "for _ in range(6):\n",
    "    res = MARK(*res)\n",
    "\n",
    "x = res[0]\n",
    "z1 = res[1]\n",
    "z2 = res[2]\n",
    "S0 = res[3]\n",
    "S4 = res[4]\n",
    "theta = res[5]\n",
    "\n",
    "print(\"\")\n",
    "print(\"Result\")\n",
    "print(\"              x = {}\".format(x))\n",
    "print(\" Pivot elements = {}\".format(z1))\n",
    "print(\"Marked elements = {}\".format(z2))\n",
    "print(\"     Marked sum = {}\".format(S0))\n",
    "print(\"       Goal sum = {}\".format(theta * S1))"
   ]
  },
  {
   "cell_type": "markdown",
   "metadata": {
    "colab_type": "text",
    "id": "gkZfICZR3QTr"
   },
   "source": [
    "# Numerical Experiment"
   ]
  },
  {
   "cell_type": "code",
   "execution_count": 0,
   "metadata": {
    "colab": {
     "base_uri": "https://localhost:8080/",
     "height": 401
    },
    "colab_type": "code",
    "id": "_V5xoWKMLomZ",
    "outputId": "7d0667b8-cbfb-441a-c103-ea1b4d48519b"
   },
   "outputs": [
    {
     "name": "stdout",
     "output_type": "stream",
     "text": [
      "[[3 1 0]\n",
      " [2 3 0]]\n",
      "[[2 0 1]]\n",
      "[[0 0]\n",
      " [1 1]\n",
      " [0 1]]\n"
     ]
    },
    {
     "data": {
      "text/plain": [
       "[<matplotlib.lines.Line2D at 0x7f3a80b58710>,\n",
       " <matplotlib.lines.Line2D at 0x7f3a80ae32e8>]"
      ]
     },
     "execution_count": 194,
     "metadata": {
      "tags": []
     },
     "output_type": "execute_result"
    },
    {
     "data": {
      "image/png": "[encoded data removed]",
      "text/plain": [
       "<Figure size 432x288 with 1 Axes>"
      ]
     },
     "metadata": {
      "tags": []
     },
     "output_type": "display_data"
    }
   ],
   "source": [
    "from scipy.spatial import Delaunay\n",
    "import matplotlib.pyplot as plt\n",
    "\n",
    "points = np.array([[0, 0], [0, 1], [1, 0], [1, 1]])\n",
    "tri = Delaunay(points)\n",
    "\n",
    "print(tri.simplices)\n",
    "\n",
    "plt.triplot(points[:,0], points[:,1])\n",
    "plt.plot(points[:,0], points[:,1], 'o')\n",
    "\n",
    "subpart = points[tri.simplices[0,:]]\n",
    "tri2 = Delaunay(subpart)\n",
    "\n",
    "print(tri2.simplices)\n",
    "p = subpart[tri2.simplices[0:]][0]\n",
    "print(p)\n",
    "plt.triplot(p[:,0], p[:,1])"
   ]
  },
  {
   "cell_type": "code",
   "execution_count": 0,
   "metadata": {
    "colab": {},
    "colab_type": "code",
    "id": "vvZTtFyL3u-O"
   },
   "outputs": [],
   "source": []
  },
  {
   "cell_type": "code",
   "execution_count": 0,
   "metadata": {
    "colab": {},
    "colab_type": "code",
    "id": "3vxF_OtN4eha"
   },
   "outputs": [],
   "source": []
  }
 ],
 "metadata": {
  "colab": {
   "collapsed_sections": [],
   "name": "Recurrent Neural Networks As Optimal Mesh Refinement Strategies.ipynb",
   "provenance": [],
   "toc_visible": true
  },
  "kernelspec": {
   "display_name": "Python 3",
   "language": "python",
   "name": "python3"
  },
  "language_info": {
   "codemirror_mode": {
    "name": "ipython",
    "version": 3
   },
   "file_extension": ".py",
   "mimetype": "text/x-python",
   "name": "python",
   "nbconvert_exporter": "python",
   "pygments_lexer": "ipython3",
   "version": "3.7.6"
  }
 },
 "nbformat": 4,
 "nbformat_minor": 1
}
