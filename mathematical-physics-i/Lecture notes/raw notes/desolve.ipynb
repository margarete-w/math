{
 "cells": [
  {
   "cell_type": "code",
   "execution_count": 1,
   "metadata": {},
   "outputs": [],
   "source": [
    "# introducing variables and a symbolic function\n",
    "\n",
    "pretty_print_default(True)\n",
    "var('t, alpha')\n",
    "x = function('x')(t)"
   ]
  },
  {
   "cell_type": "code",
   "execution_count": 2,
   "metadata": {},
   "outputs": [
    {
     "data": {
      "text/html": [
       "<html><script type=\"math/tex; mode=display\">\\newcommand{\\Bold}[1]{\\mathbf{#1}}-\\alpha x\\left(t\\right) + \\frac{\\partial}{\\partial t}x\\left(t\\right)</script></html>"
      ],
      "text/plain": [
       "-alpha*x(t) + diff(x(t), t)"
      ]
     },
     "execution_count": 2,
     "metadata": {},
     "output_type": "execute_result"
    }
   ],
   "source": [
    "# defining a differential equation...\n",
    "DE = diff(x, t) - alpha*x\n",
    "DE"
   ]
  },
  {
   "cell_type": "code",
   "execution_count": 3,
   "metadata": {},
   "outputs": [
    {
     "data": {
      "text/html": [
       "<html><script type=\"math/tex; mode=display\">\\newcommand{\\Bold}[1]{\\mathbf{#1}}C e^{\\left(\\alpha t\\right)}</script></html>"
      ],
      "text/plain": [
       "_C*e^(alpha*t)"
      ]
     },
     "execution_count": 3,
     "metadata": {},
     "output_type": "execute_result"
    }
   ],
   "source": [
    "# ... and solving it\n",
    "desolve(DE, x, ivar=t)"
   ]
  },
  {
   "cell_type": "code",
   "execution_count": 4,
   "metadata": {},
   "outputs": [
    {
     "data": {
      "text/html": [
       "<html><script type=\"math/tex; mode=display\">\\newcommand{\\Bold}[1]{\\mathbf{#1}}e^{\\left(\\alpha t\\right)}</script></html>"
      ],
      "text/plain": [
       "e^(alpha*t)"
      ]
     },
     "execution_count": 4,
     "metadata": {},
     "output_type": "execute_result"
    }
   ],
   "source": [
    "# solving with initial data x(0)==1\n",
    "desolve(DE, x, ivar=t, ics=[0,1])"
   ]
  },
  {
   "cell_type": "code",
   "execution_count": 5,
   "metadata": {},
   "outputs": [
    {
     "data": {
      "text/html": [
       "<html><script type=\"math/tex; mode=display\">\\newcommand{\\Bold}[1]{\\mathbf{#1}}2 \\, \\alpha x\\left(t\\right) - 4 \\, \\frac{\\partial}{\\partial t}x\\left(t\\right) + \\frac{\\partial^{2}}{(\\partial t)^{2}}x\\left(t\\right)</script></html>"
      ],
      "text/plain": [
       "2*alpha*x(t) - 4*diff(x(t), t) + diff(x(t), t, t)"
      ]
     },
     "execution_count": 5,
     "metadata": {},
     "output_type": "execute_result"
    }
   ],
   "source": [
    "## 2nd order differential equation from Sheet 4, Exercise 2\n",
    "\n",
    "DE = diff(x, t, 2) - 4 * diff(x,t) + 2*alpha*x\n",
    "DE"
   ]
  },
  {
   "cell_type": "code",
   "execution_count": 8,
   "metadata": {},
   "outputs": [
    {
     "data": {
      "text/html": [
       "<html><script type=\"math/tex; mode=display\">\\newcommand{\\Bold}[1]{\\mathbf{#1}}K_{1} e^{\\left(\\frac{1}{2} \\, t {\\left(\\sqrt{-8 \\, \\alpha + 16} + 4\\right)}\\right)} + K_{2} e^{\\left(-\\frac{1}{2} \\, t {\\left(\\sqrt{-8 \\, \\alpha + 16} - 4\\right)}\\right)}</script></html>"
      ],
      "text/plain": [
       "_K1*e^(1/2*t*(sqrt(-8*alpha + 16) + 4)) + _K2*e^(-1/2*t*(sqrt(-8*alpha + 16) - 4))"
      ]
     },
     "execution_count": 8,
     "metadata": {},
     "output_type": "execute_result"
    }
   ],
   "source": [
    "# dsolve seems to need some assumptions on alpha in this case...\n",
    "assume(alpha<2)\n",
    "desolve(DE, x, ivar=t)"
   ]
  },
  {
   "cell_type": "code",
   "execution_count": 9,
   "metadata": {},
   "outputs": [
    {
     "data": {
      "text/html": [
       "<html><script type=\"math/tex; mode=display\">\\newcommand{\\Bold}[1]{\\mathbf{#1}}{\\left(K_{2} \\cos\\left(\\sqrt{2} \\sqrt{\\alpha - 2} t\\right) + K_{1} \\sin\\left(\\sqrt{2} \\sqrt{\\alpha - 2} t\\right)\\right)} e^{\\left(2 \\, t\\right)}</script></html>"
      ],
      "text/plain": [
       "(_K2*cos(sqrt(2)*sqrt(alpha - 2)*t) + _K1*sin(sqrt(2)*sqrt(alpha - 2)*t))*e^(2*t)"
      ]
     },
     "execution_count": 9,
     "metadata": {},
     "output_type": "execute_result"
    }
   ],
   "source": [
    "# different assumptions (and forget the previous one)\n",
    "forget()\n",
    "assume(alpha>2)\n",
    "desolve(DE, x, ivar=t)"
   ]
  },
  {
   "cell_type": "code",
   "execution_count": 12,
   "metadata": {},
   "outputs": [
    {
     "data": {
      "text/html": [
       "<html><script type=\"math/tex; mode=display\">\\newcommand{\\Bold}[1]{\\mathbf{#1}}0</script></html>"
      ],
      "text/plain": [
       "0"
      ]
     },
     "execution_count": 12,
     "metadata": {},
     "output_type": "execute_result"
    }
   ],
   "source": [
    "# solving with boundary conditions\n",
    "desolve(DE, x, ivar=t, ics=[0,0,pi,0])"
   ]
  },
  {
   "cell_type": "code",
   "execution_count": null,
   "metadata": {},
   "outputs": [],
   "source": [
    "# Is that really true...?"
   ]
  }
 ],
 "metadata": {
  "kernelspec": {
   "display_name": "SageMath 8.4",
   "language": "",
   "name": "sagemath"
  },
  "language_info": {
   "codemirror_mode": {
    "name": "ipython",
    "version": 2
   },
   "file_extension": ".py",
   "mimetype": "text/x-python",
   "name": "python",
   "nbconvert_exporter": "python",
   "pygments_lexer": "ipython2",
   "version": "2.7.15"
  }
 },
 "nbformat": 4,
 "nbformat_minor": 2
}
