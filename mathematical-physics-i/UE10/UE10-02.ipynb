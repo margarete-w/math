{
 "cells": [
  {
   "cell_type": "code",
   "execution_count": 37,
   "metadata": {},
   "outputs": [
    {
     "data": {
      "text/html": [
       "<html><script type=\"math/tex; mode=display\">\\newcommand{\\Bold}[1]{\\mathbf{#1}}\\left(q_{1}, q_{2}, q_{3}, \\phi, r_{1}, r_{2}, r_{3}, \\alpha, t\\right)</script></html>"
      ],
      "text/plain": [
       "(q_1, q_2, q_3, phi, r_1, r_2, r_3, alpha, t)"
      ]
     },
     "execution_count": 37,
     "metadata": {},
     "output_type": "execute_result"
    }
   ],
   "source": [
    "pretty_print_default(true)\n",
    "var('q_1,q_2,q_3,phi, r_1,r_2,r_3, alpha,t')"
   ]
  },
  {
   "cell_type": "code",
   "execution_count": 29,
   "metadata": {},
   "outputs": [
    {
     "data": {
      "text/html": [
       "<html><script type=\"math/tex; mode=display\">\\newcommand{\\Bold}[1]{\\mathbf{#1}}-q_{2} r_{1} + q_{1} r_{2}</script></html>"
      ],
      "text/plain": [
       "-q_2*r_1 + q_1*r_2"
      ]
     },
     "execution_count": 29,
     "metadata": {},
     "output_type": "execute_result"
    }
   ],
   "source": [
    "R =(q_1*cos(phi) - q_2*sin(phi))*(r_1*sin(phi) + r_2*cos(phi)) - ( q_1 * sin(phi) + q_2*cos(phi))*(r_1 *cos(phi) - r_2*sin(phi))\n",
    "RR = R.full_simplify()\n",
    "RR"
   ]
  },
  {
   "cell_type": "code",
   "execution_count": 45,
   "metadata": {},
   "outputs": [
    {
     "data": {
      "text/html": [
       "<html><script type=\"math/tex; mode=display\">\\newcommand{\\Bold}[1]{\\mathbf{#1}}-\\alpha q_{2} r_{1} + \\alpha q_{1} r_{2} + \\frac{1}{2} \\, r_{1}^{2} + \\frac{1}{2} \\, r_{2}^{2} + \\frac{1}{2} \\, r_{3}^{2}</script></html>"
      ],
      "text/plain": [
       "-alpha*q_2*r_1 + alpha*q_1*r_2 + 1/2*r_1^2 + 1/2*r_2^2 + 1/2*r_3^2"
      ]
     },
     "execution_count": 45,
     "metadata": {},
     "output_type": "execute_result"
    }
   ],
   "source": [
    "L = 1/2*( (r_1*cos(phi) - r_2*sin(phi))^2+(r_1*sin(phi) + r_2*cos(phi))^2 + r_3^2) + alpha * RR\n",
    "L.full_simplify()"
   ]
  },
  {
   "cell_type": "code",
   "execution_count": 46,
   "metadata": {},
   "outputs": [
    {
     "data": {
      "text/html": [
       "<html><script type=\"math/tex; mode=display\">\\newcommand{\\Bold}[1]{\\mathbf{#1}}\\left[\\alpha r_{2}, -\\alpha r_{1}, 0\\right]</script></html>"
      ],
      "text/plain": [
       "[alpha*r_2, -alpha*r_1, 0]"
      ]
     },
     "execution_count": 46,
     "metadata": {},
     "output_type": "execute_result"
    }
   ],
   "source": [
    "[diff(L, q_1),diff(L, q_2),diff(L, q_3)]"
   ]
  },
  {
   "cell_type": "code",
   "execution_count": 47,
   "metadata": {},
   "outputs": [
    {
     "data": {
      "text/html": [
       "<html><script type=\"math/tex; mode=display\">\\newcommand{\\Bold}[1]{\\mathbf{#1}}\\left[-\\alpha q_{2} + r_{1}, \\alpha q_{1} + r_{2}, r_{3}\\right]</script></html>"
      ],
      "text/plain": [
       "[-alpha*q_2 + r_1, alpha*q_1 + r_2, r_3]"
      ]
     },
     "execution_count": 47,
     "metadata": {},
     "output_type": "execute_result"
    }
   ],
   "source": [
    "map(lambda x: x.full_simplify(), [diff(L, r_1),diff(L, r_2),diff(L, r_3)])"
   ]
  },
  {
   "cell_type": "code",
   "execution_count": null,
   "metadata": {},
   "outputs": [],
   "source": []
  }
 ],
 "metadata": {
  "kernelspec": {
   "display_name": "SageMath 8.4",
   "language": "",
   "name": "sagemath"
  },
  "language_info": {
   "codemirror_mode": {
    "name": "ipython",
    "version": 2
   },
   "file_extension": ".py",
   "mimetype": "text/x-python",
   "name": "python",
   "nbconvert_exporter": "python",
   "pygments_lexer": "ipython2",
   "version": "2.7.15"
  }
 },
 "nbformat": 4,
 "nbformat_minor": 2
}
