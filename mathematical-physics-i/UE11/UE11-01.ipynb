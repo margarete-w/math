{
 "cells": [
  {
   "cell_type": "code",
   "execution_count": 15,
   "metadata": {},
   "outputs": [
    {
     "data": {
      "text/html": [
       "<html><script type=\"math/tex; mode=display\">\\newcommand{\\Bold}[1]{\\mathbf{#1}}\\left(v_{1}, v_{2}, v_{3}, p_{1}, p_{2}, p_{3}, \\alpha, a_{1}, a_{2}, a_{3}, x_{1}, x_{2}, x_{3}\\right)</script></html>"
      ],
      "text/plain": [
       "(v_1, v_2, v_3, p_1, p_2, p_3, alpha, a_1, a_2, a_3, x_1, x_2, x_3)"
      ]
     },
     "execution_count": 15,
     "metadata": {},
     "output_type": "execute_result"
    }
   ],
   "source": [
    "pretty_print_default(true)\n",
    "var(\"v_1,v_2,v_3,p_1,p_2,p_3,alpha,a_1,a_2,a_3,x_1,x_2,x_3\")"
   ]
  },
  {
   "cell_type": "code",
   "execution_count": 58,
   "metadata": {},
   "outputs": [
    {
     "data": {
      "text/html": [
       "<html><script type=\"math/tex; mode=display\">\\newcommand{\\Bold}[1]{\\mathbf{#1}}p_{1}^{2} = -\\frac{{\\left(\\alpha^{2} + p_{2}^{2} + p_{3}^{2}\\right)} v_{1}^{2}}{v_{1}^{2} - 1}</script></html>"
      ],
      "text/plain": [
       "p_1^2 == -(alpha^2 + p_2^2 + p_3^2)*v_1^2/(v_1^2 - 1)"
      ]
     },
     "execution_count": 58,
     "metadata": {},
     "output_type": "execute_result"
    }
   ],
   "source": [
    "EQ_P1 = v_1^2*(alpha^2+p_1^2+p_2^2+p_3^2) == p_1^2\n",
    "np_1 = solve(EQ_P1, p_1^2)[0]\n",
    "np_1"
   ]
  },
  {
   "cell_type": "code",
   "execution_count": 53,
   "metadata": {},
   "outputs": [
    {
     "data": {
      "text/html": [
       "<html><script type=\"math/tex; mode=display\">\\newcommand{\\Bold}[1]{\\mathbf{#1}}p_{2}^{2} = -\\frac{{\\left(\\alpha^{2} + p_{3}^{2}\\right)} v_{2}^{2}}{v_{1}^{2} + v_{2}^{2} - 1}</script></html>"
      ],
      "text/plain": [
       "p_2^2 == -(alpha^2 + p_3^2)*v_2^2/(v_1^2 + v_2^2 - 1)"
      ]
     },
     "execution_count": 53,
     "metadata": {},
     "output_type": "execute_result"
    }
   ],
   "source": [
    "var('np_2')\n",
    "EQ_P2 = (v_2^2/(1-v_2^2)*(alpha^2 + p_3^2 + (v_1^2*(alpha^2+p_2^2+p_3^2)/(1-v_1^2))) == p_2^2)\n",
    "EQ_P2\n",
    "np_2 = solve(EQ_P2, p_2^2)[0]\n",
    "np_2"
   ]
  },
  {
   "cell_type": "code",
   "execution_count": 28,
   "metadata": {},
   "outputs": [
    {
     "data": {
      "text/html": [
       "<html><script type=\"math/tex; mode=display\">\\newcommand{\\Bold}[1]{\\mathbf{#1}}p_{3}^{2} = -\\frac{\\alpha^{2} v_{3}^{2}}{v_{1}^{2} + v_{2}^{2} + v_{3}^{2} - 1}</script></html>"
      ],
      "text/plain": [
       "p_3^2 == -alpha^2*v_3^2/(v_1^2 + v_2^2 + v_3^2 - 1)"
      ]
     },
     "execution_count": 28,
     "metadata": {},
     "output_type": "execute_result"
    }
   ],
   "source": [
    "var('x')\n",
    "EQ_P3 = (v_3^2/(1-v_3^2)*(alpha^2 + p_2^2 + (v_1^2*(alpha^2+p_2^2+p_3^2)/(1-v_1^2))) == p_3^2).subs(p_2^2 == np_2.rhs())\n",
    "np_3 = solve(EQ_P3, p_3^2)[0]\n",
    "np_3"
   ]
  },
  {
   "cell_type": "code",
   "execution_count": 55,
   "metadata": {},
   "outputs": [
    {
     "data": {
      "text/html": [
       "<html><script type=\"math/tex; mode=display\">\\newcommand{\\Bold}[1]{\\mathbf{#1}}-\\frac{\\alpha^{2} + \\sqrt{\\alpha^{2} + p_{1}^{2} + p_{2}^{2} + p_{3}^{2}} {\\left(a_{1} x_{1} + a_{2} x_{2} + a_{3} x_{3}\\right)}}{\\sqrt{\\alpha^{2} + p_{1}^{2} + p_{2}^{2} + p_{3}^{2}}}</script></html>"
      ],
      "text/plain": [
       "-(alpha^2 + sqrt(alpha^2 + p_1^2 + p_2^2 + p_3^2)*(a_1*x_1 + a_2*x_2 + a_3*x_3))/sqrt(alpha^2 + p_1^2 + p_2^2 + p_3^2)"
      ]
     },
     "execution_count": 55,
     "metadata": {},
     "output_type": "execute_result"
    }
   ],
   "source": [
    "L = 1/sqrt(alpha^2+p_1^2+p_2^2+p_3^2)*(p_1^2+p_2^2+p_3^2)  - sqrt(alpha^2 + p_1^2+p_2^2+p_3^2) - (a_1*x_1 + a_2*x_2 + a_3*x_3)\n",
    "L.full_simplify()"
   ]
  },
  {
   "cell_type": "code",
   "execution_count": 61,
   "metadata": {},
   "outputs": [
    {
     "data": {
      "text/html": [
       "<html><script type=\"math/tex; mode=display\">\\newcommand{\\Bold}[1]{\\mathbf{#1}}-\\frac{a_{1} \\sqrt{-\\frac{\\alpha^{2}}{v_{1}^{2} + v_{2}^{2} + v_{3}^{2} - 1}} x_{1} + a_{2} \\sqrt{-\\frac{\\alpha^{2}}{v_{1}^{2} + v_{2}^{2} + v_{3}^{2} - 1}} x_{2} + a_{3} \\sqrt{-\\frac{\\alpha^{2}}{v_{1}^{2} + v_{2}^{2} + v_{3}^{2} - 1}} x_{3} + \\alpha^{2}}{\\sqrt{-\\frac{\\alpha^{2}}{v_{1}^{2} + v_{2}^{2} + v_{3}^{2} - 1}}}</script></html>"
      ],
      "text/plain": [
       "-(a_1*sqrt(-alpha^2/(v_1^2 + v_2^2 + v_3^2 - 1))*x_1 + a_2*sqrt(-alpha^2/(v_1^2 + v_2^2 + v_3^2 - 1))*x_2 + a_3*sqrt(-alpha^2/(v_1^2 + v_2^2 + v_3^2 - 1))*x_3 + alpha^2)/sqrt(-alpha^2/(v_1^2 + v_2^2 + v_3^2 - 1))"
      ]
     },
     "execution_count": 61,
     "metadata": {},
     "output_type": "execute_result"
    }
   ],
   "source": [
    "np_2 = -alpha^2*v_2^2/(v_1^2+v_2^2+v_3^2-1)\n",
    "np_1 = -alpha^2*v_1^2/(v_1^2+v_2^2+v_3^2-1)\n",
    "L.subs(p_3^2 == np_3.rhs(), p_2^2 == np_2, p_1^2 == np_1).full_simplify()"
   ]
  },
  {
   "cell_type": "code",
   "execution_count": 66,
   "metadata": {},
   "outputs": [
    {
     "data": {
      "text/html": [
       "<html><script type=\"math/tex; mode=display\">\\newcommand{\\Bold}[1]{\\mathbf{#1}}-\\frac{\\alpha v_{1}}{\\sqrt{-v_{1}^{2} - v_{2}^{2} - v_{3}^{2} + 1}}</script></html>"
      ],
      "text/plain": [
       "-alpha*v_1/sqrt(-v_1^2 - v_2^2 - v_3^2 + 1)"
      ]
     },
     "execution_count": 66,
     "metadata": {},
     "output_type": "execute_result"
    }
   ],
   "source": [
    "diff(alpha*sqrt(1-v_1^2-v_2^2-v_3^2),v_1)"
   ]
  },
  {
   "cell_type": "code",
   "execution_count": 69,
   "metadata": {},
   "outputs": [
    {
     "data": {
      "text/html": [
       "<html><script type=\"math/tex; mode=display\">\\newcommand{\\Bold}[1]{\\mathbf{#1}}-\\frac{3 \\, \\alpha t}{\\sqrt{-3 \\, t^{2} + 1}}</script></html>"
      ],
      "text/plain": [
       "-3*alpha*t/sqrt(-3*t^2 + 1)"
      ]
     },
     "execution_count": 69,
     "metadata": {},
     "output_type": "execute_result"
    }
   ],
   "source": [
    "var('t')\n",
    "func\n",
    "diff(alpha*sqrt(1-v_1(t)^2 - v_2(t)^2 - v_3(t)^2), t)"
   ]
  },
  {
   "cell_type": "code",
   "execution_count": null,
   "metadata": {},
   "outputs": [],
   "source": []
  }
 ],
 "metadata": {
  "kernelspec": {
   "display_name": "SageMath 8.4",
   "language": "",
   "name": "sagemath"
  }
 },
 "nbformat": 4,
 "nbformat_minor": 2
}
