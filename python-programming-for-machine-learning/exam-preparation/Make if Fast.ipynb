{
 "cells": [
  {
   "cell_type": "code",
   "execution_count": 1,
   "metadata": {},
   "outputs": [],
   "source": [
    "import numpy as np"
   ]
  },
  {
   "cell_type": "code",
   "execution_count": 11,
   "metadata": {},
   "outputs": [],
   "source": [
    "def slow1(X):\n",
    "    N, M, D = X.shape\n",
    "    l = list()\n",
    "    for d in np.arange(D):\n",
    "        for m in np.arange(M):\n",
    "            s = 0\n",
    "            for n in np.arange(N):\n",
    "                s += X[n,m,d]\n",
    "            l.append(s / N)\n",
    "    t = 0\n",
    "    for i in np.arange(len(l)):\n",
    "        t += l[i]\n",
    "    return t / len(l)"
   ]
  },
  {
   "cell_type": "code",
   "execution_count": 54,
   "metadata": {},
   "outputs": [],
   "source": [
    "def slow2(X,Y):\n",
    "    N, D = X.shape\n",
    "    D, M = Y.shape\n",
    "    r = list()\n",
    "    for n in np.arange(N):\n",
    "        t = list()\n",
    "        for m in np.arange(M):\n",
    "            s = 0\n",
    "            for d in np.arange(D):\n",
    "                s += X[n,d] * Y[d,m]\n",
    "            t += [s]\n",
    "        r = r+[t]\n",
    "    print(r)\n",
    "    \n",
    "    RM = np.array(r)\n",
    "    U,V = RM.shape\n",
    "    z = 0\n",
    "    for u in np.arange(U):\n",
    "        for v in np.arange(V):\n",
    "            if RM[u,v] > 15:\n",
    "                z += RM[u,v]\n",
    "    return z"
   ]
  },
  {
   "cell_type": "code",
   "execution_count": 56,
   "metadata": {},
   "outputs": [],
   "source": [
    "def fast2(X,Y):\n",
    "    Z = X.dot(Y)\n",
    "    B = Z > 15\n",
    "    return sum(Z[B])"
   ]
  },
  {
   "cell_type": "code",
   "execution_count": 62,
   "metadata": {},
   "outputs": [
    {
     "name": "stdout",
     "output_type": "stream",
     "text": [
      "[[7, 10], [15, 22]]\n"
     ]
    },
    {
     "data": {
      "text/plain": [
       "22"
      ]
     },
     "execution_count": 62,
     "metadata": {},
     "output_type": "execute_result"
    }
   ],
   "source": [
    "A = np.array([[1,2],\n",
    "              [3,4]])\n",
    "slow2(A,A)\n",
    "fast2(A,A)"
   ]
  },
  {
   "cell_type": "code",
   "execution_count": null,
   "metadata": {},
   "outputs": [],
   "source": []
  },
  {
   "cell_type": "code",
   "execution_count": null,
   "metadata": {},
   "outputs": [],
   "source": [
    "Erstelle einen Scatterplot von f(x) = x^3 für 250 zufällige (gleichverteilte) datenpunkte von 0 bis 10\n",
    "mit normalverteiltem random noise und varianz = 0.5. Zeichne die Axen von 0 bis 15 für die x - Achse \n",
    "und von 0 bis 50 für die y - Achse.\n",
    "\n",
    "\n"
   ]
  },
  {
   "cell_type": "code",
   "execution_count": null,
   "metadata": {},
   "outputs": [],
   "source": []
  },
  {
   "cell_type": "code",
   "execution_count": null,
   "metadata": {},
   "outputs": [],
   "source": [
    "Gegeben sind ein Datenset X mit den richtigen Labels Y. 300 elemente . Splitte dieses Datenset zufällig\n",
    "in ein Tranings und Testset.\n",
    "80% gehen in die Trainingsdaten. gleichverteilung"
   ]
  },
  {
   "cell_type": "code",
   "execution_count": null,
   "metadata": {},
   "outputs": [],
   "source": []
  },
  {
   "cell_type": "code",
   "execution_count": null,
   "metadata": {},
   "outputs": [],
   "source": [
    "Führe für eine Matrix M mit Dimension N x 2 eine Principal Component Analyse, d.h. erstelle die Projektionsmatrixen\n",
    "für die zwei \"signifikantesten\" Axen.\n",
    "\n",
    "Erstelle 500 gleichverteilte Testvektoren der Dimension 2 im Bereich -20 bis 20. Projeziere diese Testvektoren \n",
    "auf die beiden PCA Axen. Plotte es im Scatteerplot. Stelle die Axen des Plots auf x in [-30,30] und y in [-30,30] ein.\n",
    "Entferne alle Ticks aus dem Plot. Die Größe des Plots soll 8 mal 8 betragne."
   ]
  },
  {
   "cell_type": "code",
   "execution_count": null,
   "metadata": {},
   "outputs": [],
   "source": []
  },
  {
   "cell_type": "code",
   "execution_count": null,
   "metadata": {},
   "outputs": [],
   "source": []
  },
  {
   "cell_type": "code",
   "execution_count": null,
   "metadata": {},
   "outputs": [],
   "source": []
  },
  {
   "cell_type": "code",
   "execution_count": 12,
   "metadata": {},
   "outputs": [
    {
     "data": {
      "text/plain": [
       "1.5"
      ]
     },
     "execution_count": 12,
     "metadata": {},
     "output_type": "execute_result"
    }
   ],
   "source": [
    "A = np.array([[[1,2],\n",
    "               [1,2]],\n",
    "              [[1,2],\n",
    "               [1,2]]])\n",
    "slow1(A)"
   ]
  },
  {
   "cell_type": "code",
   "execution_count": 42,
   "metadata": {},
   "outputs": [
    {
     "name": "stdout",
     "output_type": "stream",
     "text": [
      "17\n"
     ]
    }
   ],
   "source": [
    "A = np.array([[1,2],\n",
    "              [3,4]])\n",
    "B = np.array([[1,1,3],\n",
    "              [2,2,2]])\n",
    "print(slow2(A,B))"
   ]
  },
  {
   "cell_type": "code",
   "execution_count": null,
   "metadata": {},
   "outputs": [],
   "source": []
  }
 ],
 "metadata": {
  "kernelspec": {
   "display_name": "Python 3",
   "language": "python",
   "name": "python3"
  },
  "language_info": {
   "codemirror_mode": {
    "name": "ipython",
    "version": 3
   },
   "file_extension": ".py",
   "mimetype": "text/x-python",
   "name": "python",
   "nbconvert_exporter": "python",
   "pygments_lexer": "ipython3",
   "version": "3.7.2"
  }
 },
 "nbformat": 4,
 "nbformat_minor": 2
}
