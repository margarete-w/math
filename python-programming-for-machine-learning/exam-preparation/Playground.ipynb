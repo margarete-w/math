{
 "cells": [
  {
   "cell_type": "code",
   "execution_count": 1,
   "metadata": {},
   "outputs": [],
   "source": [
    "import numpy as np"
   ]
  },
  {
   "cell_type": "code",
   "execution_count": 34,
   "metadata": {},
   "outputs": [
    {
     "data": {
      "text/plain": [
       "(array([0, 1, 1]), array([0, 0, 1]))"
      ]
     },
     "execution_count": 34,
     "metadata": {},
     "output_type": "execute_result"
    }
   ],
   "source": [
    "A = np.array([[11,2], \n",
    "              [2,13]])\n",
    "B = np.array([[11,1], \n",
    "              [2,13]])\n",
    "A > 2\n",
    "np.nonzero(A == B)"
   ]
  },
  {
   "cell_type": "code",
   "execution_count": null,
   "metadata": {},
   "outputs": [],
   "source": []
  },
  {
   "cell_type": "code",
   "execution_count": null,
   "metadata": {},
   "outputs": [],
   "source": []
  },
  {
   "cell_type": "code",
   "execution_count": 37,
   "metadata": {},
   "outputs": [
    {
     "data": {
      "text/plain": [
       "24"
      ]
     },
     "execution_count": 37,
     "metadata": {},
     "output_type": "execute_result"
    }
   ],
   "source": [
    "round(23.5) + int(0.5)"
   ]
  },
  {
   "cell_type": "code",
   "execution_count": 48,
   "metadata": {},
   "outputs": [
    {
     "data": {
      "text/plain": [
       "'32.0'"
      ]
     },
     "execution_count": 48,
     "metadata": {},
     "output_type": "execute_result"
    }
   ],
   "source": [
    "\"{:02.1f}\".format(round(32.5))"
   ]
  },
  {
   "cell_type": "code",
   "execution_count": 50,
   "metadata": {},
   "outputs": [
    {
     "data": {
      "text/plain": [
       "array([[ 10, 100],\n",
       "       [ 20, 200]])"
      ]
     },
     "execution_count": 50,
     "metadata": {},
     "output_type": "execute_result"
    }
   ],
   "source": [
    "A = np.array([[1,2]])\n",
    "B = np.array([[10,100]])\n",
    "np.outer(A,B)"
   ]
  },
  {
   "cell_type": "code",
   "execution_count": 53,
   "metadata": {},
   "outputs": [],
   "source": [
    "import numpy\n",
    "import matplotlib.pyplot as plt"
   ]
  },
  {
   "cell_type": "code",
   "execution_count": 63,
   "metadata": {},
   "outputs": [
    {
     "name": "stdout",
     "output_type": "stream",
     "text": [
      "[[  2.48357077]\n",
      " [ -0.69132151]\n",
      " [  3.23844269]\n",
      " [  7.61514928]\n",
      " [ -1.17076687]\n",
      " [ -1.17068478]\n",
      " [  7.89606408]\n",
      " [  3.83717365]\n",
      " [ -2.34737193]\n",
      " [  2.71280022]\n",
      " [ -2.31708846]\n",
      " [ -2.32864877]\n",
      " [  1.20981136]\n",
      " [ -9.56640122]\n",
      " [ -8.62458916]\n",
      " [ -2.81143765]\n",
      " [ -5.0641556 ]\n",
      " [  1.57123666]\n",
      " [ -4.54012038]\n",
      " [ -7.06151851]\n",
      " [  7.32824384]\n",
      " [ -1.1288815 ]\n",
      " [  0.33764102]\n",
      " [ -7.12374093]\n",
      " [ -2.72191362]\n",
      " [  0.55461295]\n",
      " [ -5.75496789]\n",
      " [  1.87849009]\n",
      " [ -3.00319345]\n",
      " [ -1.45846875]\n",
      " [ -3.00853306]\n",
      " [  9.26139092]\n",
      " [ -0.06748612]\n",
      " [ -5.28855464]\n",
      " [  4.11272456]\n",
      " [ -6.10421825]\n",
      " [  1.04431798]\n",
      " [ -9.79835062]\n",
      " [ -6.64093024]\n",
      " [  0.98430618]\n",
      " [  3.6923329 ]\n",
      " [  0.85684141]\n",
      " [ -0.57824141]\n",
      " [ -1.50551848]\n",
      " [ -7.39260995]\n",
      " [ -3.59922104]\n",
      " [ -2.30319385]\n",
      " [  5.28561113]\n",
      " [  1.71809145]\n",
      " [ -8.81520078]\n",
      " [  1.62041985]\n",
      " [ -1.9254114 ]\n",
      " [ -3.38461   ]\n",
      " [  3.05838144]\n",
      " [  5.15499761]\n",
      " [  4.6564006 ]\n",
      " [ -4.19608762]\n",
      " [ -1.54606188]\n",
      " [  1.65631716]\n",
      " [  4.87772564]\n",
      " [ -2.39587119]\n",
      " [ -0.92829488]\n",
      " [ -5.53167487]\n",
      " [ -5.98103312]\n",
      " [  4.06262911]\n",
      " [  6.78120014]\n",
      " [ -0.36005061]\n",
      " [  5.01766449]\n",
      " [  1.80818013]\n",
      " [ -3.22559877]\n",
      " [  1.80697803]\n",
      " [  7.69018283]\n",
      " [ -0.1791302 ]\n",
      " [  7.82321828]\n",
      " [-13.09872552]\n",
      " [  4.10951252]\n",
      " [  0.43523534]\n",
      " [ -1.49503675]\n",
      " [  0.45880388]\n",
      " [ -9.93784457]\n",
      " [ -1.09835944]\n",
      " [  1.78556286]\n",
      " [  7.38947022]\n",
      " [ -2.59135109]\n",
      " [ -4.04246801]\n",
      " [ -2.50878522]\n",
      " [  4.57701059]\n",
      " [  1.64375555]\n",
      " [ -2.64880102]\n",
      " [  2.56633717]\n",
      " [  0.48538775]\n",
      " [  4.84322495]\n",
      " [ -3.51026547]\n",
      " [ -1.63831073]\n",
      " [ -1.96054077]\n",
      " [ -7.31757474]\n",
      " [  1.48060139]\n",
      " [  1.30527636]\n",
      " [  0.02556728]\n",
      " [ -1.17293567]\n",
      " [ -7.07685371]\n",
      " [ -2.10322661]\n",
      " [ -1.71357258]\n",
      " [ -4.01138635]\n",
      " [ -0.80642856]\n",
      " [  2.02025428]\n",
      " [  9.43092951]\n",
      " [  0.87288906]\n",
      " [  1.28775195]\n",
      " [ -0.37222958]\n",
      " [ -9.59385608]\n",
      " [ -0.13256938]\n",
      " [  0.30115105]\n",
      " [ 12.31621056]\n",
      " [ -0.96180482]\n",
      " [  1.50773671]\n",
      " [ -0.17355885]\n",
      " [ -5.84339019]\n",
      " [  5.71411407]\n",
      " [  3.75966516]\n",
      " [  3.95515974]\n",
      " [ -4.54693727]\n",
      " [  7.01397155]\n",
      " [ -7.00925531]\n",
      " [  2.93428547]\n",
      " [ 10.95227813]\n",
      " [ -4.95268163]\n",
      " [ -2.83148865]\n",
      " [  0.49825683]\n",
      " [ -2.51737827]\n",
      " [ -7.75331716]\n",
      " [  0.34281487]\n",
      " [ -5.31151857]\n",
      " [  2.36796215]\n",
      " [ -4.59712117]\n",
      " [  7.74967203]\n",
      " [ -3.91626646]\n",
      " [ -1.61030758]\n",
      " [  4.06758609]\n",
      " [ -6.15432158]\n",
      " [  1.13729967]\n",
      " [  6.53571377]\n",
      " [ -8.03741617]\n",
      " [  0.92316929]\n",
      " [  1.29941397]\n",
      " [  3.90911436]\n",
      " [ -6.18475355]\n",
      " [ -6.60228307]\n",
      " [  2.60970783]\n",
      " [  1.48492337]\n",
      " [  1.25246425]\n",
      " [  1.73224105]\n",
      " [ -3.40012361]\n",
      " [  1.16126849]\n",
      " [  1.46536237]\n",
      " [ -3.57175709]\n",
      " [  9.32887256]\n",
      " [  2.3691646 ]\n",
      " [ -5.95651749]\n",
      " [  3.28276804]\n",
      " [ -4.87340835]\n",
      " [  3.93542302]\n",
      " [  5.7929779 ]\n",
      " [ -4.10341159]\n",
      " [  4.81688065]\n",
      " [  2.06390463]\n",
      " [  4.1103008 ]\n",
      " [  9.48396491]\n",
      " [ -1.22694058]\n",
      " [ -3.76868082]\n",
      " [ -4.44757215]\n",
      " [ -4.07905142]\n",
      " [ -0.38550855]\n",
      " [  1.70575987]\n",
      " [  1.383454  ]\n",
      " [  4.13591625]\n",
      " [  0.06500946]\n",
      " [  7.26767039]\n",
      " [ -1.32328417]\n",
      " [ 13.60084583]\n",
      " [  3.12833674]\n",
      " [ -4.28578778]\n",
      " [ -5.35446249]\n",
      " [  2.41236208]\n",
      " [ -1.11731393]\n",
      " [  3.57000247]\n",
      " [  2.36618812]\n",
      " [ -0.36414456]\n",
      " [ -4.23396859]\n",
      " [ -7.57423612]\n",
      " [ -2.23257476]\n",
      " [  4.28199397]\n",
      " [  1.07046872]\n",
      " [ -6.22869389]\n",
      " [  0.86590463]\n",
      " [  1.9265869 ]\n",
      " [ -4.41928718]\n",
      " [  0.76862553]\n",
      " [  0.29104359]\n",
      " [ -5.71485149]\n",
      " [  1.7889368 ]\n",
      " [  2.80392263]\n",
      " [  5.41525622]\n",
      " [  5.26901026]\n",
      " [ -6.88834684]\n",
      " [ -4.6891252 ]\n",
      " [  2.57517634]\n",
      " [  2.56892975]\n",
      " [  2.57523843]\n",
      " [ 19.26365745]\n",
      " [  2.85445255]\n",
      " [  5.6778282 ]\n",
      " [  4.77000882]\n",
      " [  3.25695626]\n",
      " [ -1.57634622]\n",
      " [  3.7948461 ]\n",
      " [ -3.86412607]\n",
      " [ -1.18409303]\n",
      " [ -2.42681774]\n",
      " [  0.4093707 ]\n",
      " [ 11.57329283]\n",
      " [ -9.33632596]\n",
      " [  3.43130095]\n",
      " [ -8.06357936]\n",
      " [ -2.35965933]\n",
      " [  5.44475298]\n",
      " [  0.3214001 ]\n",
      " [ -5.38872389]\n",
      " [ -3.57651855]\n",
      " [  3.39798874]\n",
      " [ -3.65183316]\n",
      " [  1.08229295]\n",
      " [  0.2278592 ]\n",
      " [ -3.25800174]\n",
      " [ 10.71972045]\n",
      " [  3.16959511]\n",
      " [-10.12571293]\n",
      " [  0.93227157]\n",
      " [ -3.30893232]\n",
      " [  4.26216667]\n",
      " [ -3.96260369]\n",
      " [ -0.57368221]\n",
      " [  2.52493639]\n",
      " [  4.32877597]\n",
      " [ -6.00148204]\n",
      " [ -1.67250618]\n",
      " [ -2.37472656]\n",
      " [ -3.26664616]\n",
      " [  8.8272712 ]\n",
      " [  2.02490855]]\n",
      "(250, 1)\n"
     ]
    },
    {
     "data": {
      "text/plain": [
       "<Figure size 864x576 with 0 Axes>"
      ]
     },
     "execution_count": 63,
     "metadata": {},
     "output_type": "execute_result"
    },
    {
     "data": {
      "text/plain": [
       "<Figure size 864x576 with 0 Axes>"
      ]
     },
     "metadata": {},
     "output_type": "display_data"
    }
   ],
   "source": [
    "numpy.random.seed(42)\n",
    "N = 250 # number of data points\n",
    "X = numpy.random.normal(0, 5, size = (N, 1))\n",
    "X_ones = numpy.ones_like(X)\n",
    "X = numpy.concatenate((X, X_ones), axis=1)\n",
    "print(X)\n",
    "\n",
    "\n",
    "print(X.shape)\n",
    "plt.figure(figsize = (12,8))"
   ]
  },
  {
   "cell_type": "code",
   "execution_count": 62,
   "metadata": {},
   "outputs": [
    {
     "data": {
      "text/plain": [
       "Text(0, 0.5, 'y')"
      ]
     },
     "execution_count": 62,
     "metadata": {},
     "output_type": "execute_result"
    },
    {
     "data": {
      "image/png": "[encoded data removed]",
      "text/plain": [
       "<Figure size 432x288 with 1 Axes>"
      ]
     },
     "metadata": {
      "needs_background": "light"
     },
     "output_type": "display_data"
    }
   ],
   "source": [
    "# Create targets (outputs) and make them depend on X in some way\n",
    "y = 0.5 * X[:, 0] + 0.05 * X[:, 0] ** 2 + 0.5\n",
    "sigma2 = 0.5\n",
    "Eps = numpy.random.normal(0, sigma2, (N)) # random noise y += Eps # add noise to the targets\n",
    "# Plot the labeled dataset\n",
    "plt.scatter(X[:, 0], y)\n",
    "plt.xlabel('X')\n",
    "plt.ylabel('y')"
   ]
  },
  {
   "cell_type": "code",
   "execution_count": null,
   "metadata": {},
   "outputs": [],
   "source": []
  },
  {
   "cell_type": "code",
   "execution_count": null,
   "metadata": {},
   "outputs": [],
   "source": [
    "\n",
    "\n",
    "\n",
    "\n",
    "\n",
    "\n"
   ]
  },
  {
   "cell_type": "code",
   "execution_count": null,
   "metadata": {},
   "outputs": [],
   "source": []
  },
  {
   "cell_type": "code",
   "execution_count": null,
   "metadata": {},
   "outputs": [],
   "source": []
  },
  {
   "cell_type": "code",
   "execution_count": null,
   "metadata": {},
   "outputs": [],
   "source": []
  },
  {
   "cell_type": "code",
   "execution_count": null,
   "metadata": {},
   "outputs": [],
   "source": []
  },
  {
   "cell_type": "code",
   "execution_count": null,
   "metadata": {},
   "outputs": [],
   "source": []
  },
  {
   "cell_type": "code",
   "execution_count": null,
   "metadata": {},
   "outputs": [],
   "source": []
  },
  {
   "cell_type": "code",
   "execution_count": null,
   "metadata": {},
   "outputs": [],
   "source": []
  },
  {
   "cell_type": "code",
   "execution_count": null,
   "metadata": {},
   "outputs": [],
   "source": []
  },
  {
   "cell_type": "code",
   "execution_count": null,
   "metadata": {},
   "outputs": [],
   "source": []
  },
  {
   "cell_type": "code",
   "execution_count": 82,
   "metadata": {},
   "outputs": [
    {
     "data": {
      "text/plain": [
       "(array([5, 1, 1]), array([1.        , 3.66666667, 6.33333333, 9.        ]))"
      ]
     },
     "execution_count": 82,
     "metadata": {},
     "output_type": "execute_result"
    }
   ],
   "source": [
    "U = [1,1,2.7,1,1,4,9]\n",
    "np.histogram(U, bins = 3)"
   ]
  },
  {
   "cell_type": "code",
   "execution_count": 95,
   "metadata": {},
   "outputs": [
    {
     "data": {
      "text/plain": [
       "array([1, 2, 2])"
      ]
     },
     "execution_count": 95,
     "metadata": {},
     "output_type": "execute_result"
    }
   ],
   "source": [
    "import numpy\n",
    "import numpy.random as rnd\n",
    "rnd.multinomial(5, [0.2, 0.3, 0.5])"
   ]
  },
  {
   "cell_type": "code",
   "execution_count": null,
   "metadata": {},
   "outputs": [],
   "source": []
  }
 ],
 "metadata": {
  "kernelspec": {
   "display_name": "Python 3",
   "language": "python",
   "name": "python3"
  },
  "language_info": {
   "codemirror_mode": {
    "name": "ipython",
    "version": 3
   },
   "file_extension": ".py",
   "mimetype": "text/x-python",
   "name": "python",
   "nbconvert_exporter": "python",
   "pygments_lexer": "ipython3",
   "version": "3.7.2"
  }
 },
 "nbformat": 4,
 "nbformat_minor": 2
}
