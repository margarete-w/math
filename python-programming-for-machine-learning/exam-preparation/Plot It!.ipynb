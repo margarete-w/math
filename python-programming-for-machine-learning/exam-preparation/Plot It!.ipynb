{
 "cells": [
  {
   "cell_type": "markdown",
   "metadata": {},
   "source": [
    "Plot the limacon\n",
    "$$\n",
    "    r = r_0 + \\cos(\\theta) \\\\\n",
    "    x = r \\cos(\\theta) \\\\\n",
    "    y = r \\sin(\\theta)\n",
    "$$\n",
    "for $r_0 = 1$ and $\\theta \\in [0, 2\\pi)$.\n",
    "\n",
    "Include labels for the $x$ and $y$-axis, a legend in the lower left corner, a grid and appropriate ticks on every axis."
   ]
  },
  {
   "cell_type": "code",
   "execution_count": 1,
   "metadata": {},
   "outputs": [],
   "source": [
    "import numpy as np\n",
    "import matplotlib\n",
    "import matplotlib.pyplot as plt"
   ]
  },
  {
   "cell_type": "code",
   "execution_count": 10,
   "metadata": {},
   "outputs": [
    {
     "data": {
      "text/plain": [
       "([<matplotlib.axis.YTick at 0x10bd2db00>],\n",
       " <a list of 1 Text yticklabel objects>)"
      ]
     },
     "execution_count": 10,
     "metadata": {},
     "output_type": "execute_result"
    },
    {
     "data": {
      "image/png": "[encoded data removed]",
      "text/plain": [
       "<Figure size 432x288 with 1 Axes>"
      ]
     },
     "metadata": {
      "needs_background": "light"
     },
     "output_type": "display_data"
    }
   ],
   "source": [
    "I = np.arange(0, 2 * np.pi, 0.01)\n",
    "r_0 = 0.5\n",
    "X = (r_0 + np.cos(I)) * np.cos(I)\n",
    "Y = (r_0 + np.cos(I)) * np.sin(I)\n",
    "plt.plot(X,Y, label=\"limacon\")\n",
    "plt.legend(loc = \"lower left\")\n",
    "plt.xlabel('x')\n",
    "plt.ylabel('y')\n",
    "plt.grid(True)\n",
    "\n",
    "xtks = np.arange(0, 1 * np.pi, 1)\n",
    "ytiks = np.arange(0,1,1)\n",
    "\n",
    "plt.xticks(xtks)\n",
    "plt.yticks(ytiks)"
   ]
  },
  {
   "cell_type": "code",
   "execution_count": 12,
   "metadata": {},
   "outputs": [
    {
     "data": {
      "text/plain": [
       "array([1.])"
      ]
     },
     "execution_count": 12,
     "metadata": {},
     "output_type": "execute_result"
    }
   ],
   "source": [
    "np.clip([1], 0.5,None)"
   ]
  },
  {
   "cell_type": "code",
   "execution_count": 25,
   "metadata": {},
   "outputs": [
    {
     "data": {
      "text/plain": [
       "array(['c', 'c', 'c', 'a', 'c', 'b', 'c', 'd', 'c', 'd', 'a', 'c', 'a',\n",
       "       'b', 'a', 'a', 'c', 'b', 'c', 'd', 'd', 'a', 'c', 'c', 'b', 'b',\n",
       "       'c', 'a', 'c', 'd', 'a', 'b', 'a', 'd', 'b', 'd', 'c', 'a', 'b',\n",
       "       'a', 'a', 'b', 'b', 'b', 'c', 'd', 'a', 'c', 'b', 'd'], dtype='<U1')"
      ]
     },
     "execution_count": 25,
     "metadata": {},
     "output_type": "execute_result"
    }
   ],
   "source": [
    "import numpy.random as rnd\n",
    "X = np.array(['a', 'b', 'c', 'd'])\n",
    "p = [1/len(X)]*len(X)\n",
    "repeat = np.tile(X, (50,1))\n",
    "mlt = rnd.multinomial(1,p,size=(50))\n",
    "repeat[mlt.astype(bool)]"
   ]
  },
  {
   "cell_type": "code",
   "execution_count": null,
   "metadata": {},
   "outputs": [],
   "source": []
  },
  {
   "cell_type": "code",
   "execution_count": null,
   "metadata": {},
   "outputs": [],
   "source": []
  }
 ],
 "metadata": {
  "kernelspec": {
   "display_name": "Python 3",
   "language": "python",
   "name": "python3"
  },
  "language_info": {
   "codemirror_mode": {
    "name": "ipython",
    "version": 3
   },
   "file_extension": ".py",
   "mimetype": "text/x-python",
   "name": "python",
   "nbconvert_exporter": "python",
   "pygments_lexer": "ipython3",
   "version": "3.7.2"
  }
 },
 "nbformat": 4,
 "nbformat_minor": 2
}
