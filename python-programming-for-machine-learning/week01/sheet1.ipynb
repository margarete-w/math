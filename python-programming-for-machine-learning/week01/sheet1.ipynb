{
 "cells": [
  {
   "cell_type": "markdown",
   "metadata": {},
   "source": [
    "## Before submitting\n",
    "1. Before you turn this problem in, make sure everything runs as expected. First, **restart the kernel** (in the menubar, select Kernel$\\rightarrow$Restart) and then **run all cells** (in the menubar, select Cell$\\rightarrow$Run All).\n",
    "\n",
    "2. Make sure that no assertions fail or exceptions occur, otherwise points will be subtracted.\n",
    "\n",
    "3. Please submit only the `*.ipynb` file.\n",
    "\n",
    "4. Make sure you fill in any place that says `YOUR CODE HERE` or \"YOUR ANSWER HERE\". Edit only between `YOUR CODE HERE` and `END YOUR CODE`.\n",
    "\n",
    "5. Make sure to use Python 3, not Python 2.\n",
    "\n",
    "Fill your group name and collaborators below:"
   ]
  },
  {
   "cell_type": "code",
   "execution_count": 2,
   "metadata": {},
   "outputs": [],
   "source": [
    "# GROUPNAME = \"42\"\n",
    "COLLABORATORS = \"Viet Duc Nguyen, Laura Schöne, Jacky Behrendt\"\n",
    "#               (っ◕‿◕)っ           ( ^-^)_旦      ヽ(·̿̿Ĺ̯̿̿·̿✿)ﾉ"
   ]
  },
  {
   "cell_type": "markdown",
   "metadata": {},
   "source": [
    "---"
   ]
  },
  {
   "cell_type": "markdown",
   "metadata": {},
   "source": [
    "# Exercise Sheet 1: Python Basics\n",
    "\n",
    "This first  exercise sheet tests the basic functionalities of the Python programming language in the context of a simple prediction task. We consider the problem of predicting health risk of subjects from personal data and habits. We first use for this task a decision tree\n",
    "\n",
    "![](tree.png)\n",
    "\n",
    "adapted from the webpage http://www.refactorthis.net/post/2013/04/10/Machine-Learning-tutorial-How-to-create-a-decision-tree-in-RapidMiner-using-the-Titanic-passenger-data-set.aspx. For this exercise sheet, you are required to use only pure Python, and to not import any module, including numpy. In exercise sheet 2, the nearest neighbor part of this exercise sheet will be revisited with numpy."
   ]
  },
  {
   "cell_type": "markdown",
   "metadata": {},
   "source": [
    "## Classifying a single instance (15 P)\n",
    "\n",
    "* Create a function that takes as input a tuple containing values for attributes (smoker,age,diet), and computes the output of the decision tree. Should return `\"less\"` or `\"more\"`.\n",
    "* Test your function on the tuple `('yes', 31, 'good')`,"
   ]
  },
  {
   "cell_type": "code",
   "execution_count": 3,
   "metadata": {
    "deletable": false,
    "nbgrader": {
     "checksum": "f3e47f689550d7323b8965c76a70298d",
     "grade": false,
     "grade_id": "cell-b66d7278bc313c94",
     "locked": false,
     "schema_version": 1,
     "solution": true
    }
   },
   "outputs": [],
   "source": [
    "def decision(x):\n",
    "    # >>>>> YOUR CODE HERE\n",
    "    health = None\n",
    "    if x[0] == 'yes':\n",
    "        if int(x[1]) < 29.5:\n",
    "            health = 'less'\n",
    "        else:\n",
    "            health = 'more'\n",
    "    elif x[0] != 'yes':\n",
    "        if x[2] == 'good':\n",
    "            health = 'less'\n",
    "        else:\n",
    "            health = 'more'\n",
    "    return health \n",
    "    # <<<<< END YOUR CODE"
   ]
  },
  {
   "cell_type": "code",
   "execution_count": 4,
   "metadata": {
    "deletable": false,
    "editable": false,
    "nbgrader": {
     "checksum": "c0559abdef335108b9edbb4ea3011c4c",
     "grade": true,
     "grade_id": "cell-c31b80471db3132f",
     "locked": true,
     "points": 15,
     "schema_version": 1,
     "solution": false
    }
   },
   "outputs": [],
   "source": [
    "# Test\n",
    "x = ('yes', 31, 'good')\n",
    "assert decision(x) == 'more'\n"
   ]
  },
  {
   "cell_type": "code",
   "execution_count": null,
   "metadata": {},
   "outputs": [],
   "source": []
  },
  {
   "cell_type": "markdown",
   "metadata": {},
   "source": [
    "## Reading a dataset from a text file (10 P)\n",
    "\n",
    "The file `health-test.txt` contains several fictious records of personal data and habits.\n",
    "\n",
    "* Read the file automatically using the methods introduced during the lecture.\n",
    "* Represent the dataset as a list of tuples. Make sure that the tuples have the same format as above, e.g. `('yes', 31, 'good')`.\n",
    "* Make extra note of the datatype of each element"
   ]
  },
  {
   "cell_type": "code",
   "execution_count": 5,
   "metadata": {
    "deletable": false,
    "nbgrader": {
     "checksum": "8217159008caa1db2f6649e3ed092d9f",
     "grade": false,
     "grade_id": "cell-c1a8bc4c0e4ccb26",
     "locked": false,
     "schema_version": 1,
     "solution": true
    }
   },
   "outputs": [],
   "source": [
    "def gettest():\n",
    "    # >>>>> YOUR CODE HERE\n",
    "    with open('health-test.txt', 'r') as f:\n",
    "        D = []\n",
    "        for line in f:\n",
    "            A = line.split(',')\n",
    "            D.append((A[0], int(A[1]), A[2][:-1]))\n",
    "        return D\n",
    "    # <<<<< END YOUR CODE"
   ]
  },
  {
   "cell_type": "code",
   "execution_count": null,
   "metadata": {
    "deletable": false,
    "editable": false,
    "nbgrader": {
     "checksum": "5a6c609343f9b1d4bb9e02d4cc0abc2e",
     "grade": true,
     "grade_id": "cell-4e1f7ad1e66b3121",
     "locked": true,
     "points": 10,
     "schema_version": 1,
     "solution": false
    }
   },
   "outputs": [],
   "source": []
  },
  {
   "cell_type": "markdown",
   "metadata": {},
   "source": [
    "## Applying the decision tree to the dataset (15 P)\n",
    "\n",
    "* Apply the decision tree to all points in the dataset, and return the ratio of them that are classified as \"more\"."
   ]
  },
  {
   "cell_type": "code",
   "execution_count": 73,
   "metadata": {
    "deletable": false,
    "nbgrader": {
     "checksum": "6a8ebad6d019805a1f317cd25c329cff",
     "grade": false,
     "grade_id": "cell-6703ef98e2b5c93b",
     "locked": false,
     "schema_version": 1,
     "solution": true
    }
   },
   "outputs": [],
   "source": [
    "def evaluate_testset():\n",
    "    # >>>>> YOUR CODE HERE\n",
    "    H = gettest()\n",
    "    moreSet = list(filter(lambda x: decision(x) == 'more', H))\n",
    "    return len(moreSet)/len(H)\n",
    "    # <<<<< END YOUR CODE"
   ]
  },
  {
   "cell_type": "code",
   "execution_count": null,
   "metadata": {
    "deletable": false,
    "editable": false,
    "nbgrader": {
     "checksum": "2cf754f1f4a98838c63a6840e15ae198",
     "grade": true,
     "grade_id": "cell-c13a0b23c9faba52",
     "locked": true,
     "points": 15,
     "schema_version": 1,
     "solution": false
    }
   },
   "outputs": [],
   "source": []
  },
  {
   "cell_type": "markdown",
   "metadata": {},
   "source": [
    "## Learning from examples (10 P)\n",
    "\n",
    "Suppose that instead of relying on a fixed decision tree, we would like to use a data-driven approach where data points are classified based on a set of training observations manually labeled by experts. Such labeled dataset is available in the file `health-train.txt`. The first three columns have the same meaning than for `health-test.txt`, and the last column corresponds to the labels.\n",
    "\n",
    "* Write a procedure that reads this file and converts it into a list of pairs. The first element of each pair is a triplet of attributes, and the second element is the label."
   ]
  },
  {
   "cell_type": "code",
   "execution_count": 32,
   "metadata": {
    "deletable": false,
    "nbgrader": {
     "checksum": "e6de29aa89d0457a5c0aeb5d7123a2ef",
     "grade": false,
     "grade_id": "cell-fc38ed11fee6fbeb",
     "locked": false,
     "schema_version": 1,
     "solution": true
    }
   },
   "outputs": [],
   "source": [
    "def gettrain():\n",
    "    # >>>>> YOUR CODE HERE\n",
    "    with open('health-train.txt', 'r') as f:\n",
    "        D = []\n",
    "        for line in f:\n",
    "            A = line.split(',')\n",
    "            D.append(((A[0], int(A[1]), A[2]), A[3][:-1])) #((smoke, age, diet), label)\n",
    "    return D\n",
    "    # <<<<< END YOUR CODE"
   ]
  },
  {
   "cell_type": "code",
   "execution_count": null,
   "metadata": {
    "deletable": false,
    "editable": false,
    "nbgrader": {
     "checksum": "925716f474f7b0e3a7892e1aebfa217e",
     "grade": true,
     "grade_id": "cell-a3d593f232e0403a",
     "locked": true,
     "points": 10,
     "schema_version": 1,
     "solution": false
    }
   },
   "outputs": [],
   "source": []
  },
  {
   "cell_type": "markdown",
   "metadata": {},
   "source": [
    "## Nearest neighbor classifier (25 P)\n",
    "\n",
    "We consider the nearest neighbor algorithm that classifies test points following the label of the nearest neighbor in the training data. For this, we need to define a distance function between data points. We define it to be\n",
    "\n",
    "`d(a, b) = (a[0] != b[0]) + ((a[1] - b[1]) / 50.0) ** 2 + (a[2] != b[2])`\n",
    "\n",
    "where `a` and `b` are two tuples corrsponding to the attributes of two data points.\n",
    "\n",
    "* Write a function that retrieves for a test point the nearest neighbor in the training set, and classifies the test point accordingly.\n",
    "* Test your function on the tuple `('yes', 31, 'good')`"
   ]
  },
  {
   "cell_type": "code",
   "execution_count": 76,
   "metadata": {
    "deletable": false,
    "nbgrader": {
     "checksum": "87751ef965d915307f761da8071a184f",
     "grade": false,
     "grade_id": "cell-671ea24ec8a11241",
     "locked": false,
     "schema_version": 1,
     "solution": true
    }
   },
   "outputs": [],
   "source": [
    "def neighbor(a, trainset):\n",
    "    # >>>>> YOUR CODE HERE\n",
    "        minDist = float('Inf')\n",
    "        health = None \n",
    "        for c in trainset: # (feature vectore, label)\n",
    "            feature_vector = c[0]\n",
    "            label = c[1]\n",
    "            dist = (int(a[0] != feature_vector[0])) + ((a[1] - feature_vector[1]) / 50.0) ** 2 + (int(a[2] != feature_vector[2]))\n",
    "            if dist < minDist:\n",
    "                health = label\n",
    "                minDist = dist\n",
    "\n",
    "        return health \n",
    "    # <<<<< END YOUR CODE"
   ]
  },
  {
   "cell_type": "code",
   "execution_count": 77,
   "metadata": {
    "deletable": false,
    "editable": false,
    "nbgrader": {
     "checksum": "528146e447a25173480343d5fb7fd585",
     "grade": true,
     "grade_id": "cell-a36122337853f195",
     "locked": true,
     "points": 15,
     "schema_version": 1,
     "solution": false
    }
   },
   "outputs": [],
   "source": [
    "# Test\n",
    "x = ('yes', 31, 'good')\n",
    "assert neighbor(x, gettrain()) == \"more\"\n"
   ]
  },
  {
   "cell_type": "markdown",
   "metadata": {},
   "source": [
    "* Apply both the decision tree and nearest neighbor classifiers on the test set, and return the list of data point(s) for which the two classifiers disagree, and with which probability it happens.\n",
    "* A data point should look like above, e.g. `('yes', 31, 'good')`."
   ]
  },
  {
   "cell_type": "code",
   "execution_count": 79,
   "metadata": {
    "deletable": false,
    "nbgrader": {
     "checksum": "d26e5477527236f7db5c7cb6f8589c3a",
     "grade": false,
     "grade_id": "cell-8dbf7da153f3d797",
     "locked": false,
     "schema_version": 1,
     "solution": true
    }
   },
   "outputs": [],
   "source": [
    "def compare():\n",
    "    # >>>>> YOUR CODE HERE\n",
    "    testData = gettest()\n",
    "    trainData = gettrain()\n",
    "    \n",
    "    res = list(map(lambda x: (x, decision(x), neighbor(x, trainData)), testData))\n",
    "    wrongLabels = list(filter(lambda x: x[1] != x[2], res))\n",
    "            \n",
    "    probability = len(wrongLabels) / len(testData)\n",
    "    Xdisagree = list(map(lambda x: x[0], wrongLabels))\n",
    "    # <<<<< END YOUR CODE\n",
    "    return Xdisagree, probability"
   ]
  },
  {
   "cell_type": "code",
   "execution_count": 65,
   "metadata": {
    "deletable": false,
    "editable": false,
    "nbgrader": {
     "checksum": "aa0b2ace7df5181b0528208ca0cc0dcc",
     "grade": true,
     "grade_id": "cell-3b55f7e89ad4dfeb",
     "locked": true,
     "points": 10,
     "schema_version": 1,
     "solution": false
    }
   },
   "outputs": [
    {
     "name": "stdout",
     "output_type": "stream",
     "text": [
      "[('yes', 51, 'good')]\n"
     ]
    }
   ],
   "source": [
    "Xdisagree, probability = compare()\n",
    "assert type(Xdisagree) == list\n",
    "print(Xdisagree)\n",
    "assert probability >= 0.0 and probability <= 1.0"
   ]
  },
  {
   "cell_type": "markdown",
   "metadata": {},
   "source": [
    "One problem of simple nearest neighbors is that one needs to compare the point to predict to all data points in the training set. This can be slow for datasets of thousands of points or more. Alternatively, some classifiers train a model first, and then use it to classify the data.\n",
    "\n",
    "## Nearest mean classifier (25 P)\n",
    "\n",
    "We consider one such trainable model, which operates in two steps:\n",
    "\n",
    "(1) Compute the average point for each class, (2) classify new points to be of the class whose average point is nearest to the point to predict.\n",
    "\n",
    "For this classifier, we convert the attributes smoker and diet to real values (for smoker: yes=1.0 and no=0.0, and for diet: good=0.0 and poor=1.0), and use the modified distance function:\n",
    "\n",
    "`d(a,b) = (a[0] - b[0]) ** 2 + ((a[1] - b[1]) / 50.0) ** 2 + (a[2] - b[2]) ** 2`\n",
    "\n",
    "We adopt an object-oriented approach for building this classifier.\n",
    "\n",
    "* Implement the methods `train` and `predict` of the class `NearestMeanClassifier`."
   ]
  },
  {
   "cell_type": "code",
   "execution_count": 12,
   "metadata": {
    "deletable": false,
    "nbgrader": {
     "checksum": "303bfe831913b6c12d012e06b0815e0c",
     "grade": false,
     "grade_id": "cell-e0b339bfd0fcc16c",
     "locked": false,
     "schema_version": 1,
     "solution": true
    }
   },
   "outputs": [],
   "source": [
    "class NearestMeanClassifier:\n",
    "    def train(self, dataset):        \n",
    "        \"\"\"\n",
    "        Trains the dataset and returns the machine learning model.\n",
    "        \n",
    "        Parameters\n",
    "        -------------\n",
    "        dataset: ((smoke: str, age: int, diet: str), label: str)\n",
    "        \n",
    "        Return\n",
    "        -------------\n",
    "        {\n",
    "            \"less\": (smoke: int, age: int, diet: int),\n",
    "            \"more\": (smoke: int, age: int, diet: int)\n",
    "        }\n",
    "        \"\"\"\n",
    "        \n",
    "        # Here is the code\n",
    "\n",
    "        \"\"\"\n",
    "        This is a helper method. It transforms the input `dataset` to a continuous data set.\n",
    "        The map is defined as follows:\n",
    "           - smoke == yes  ~> 1.0  \n",
    "           - diet  == poor ~> 1.0\n",
    "           \n",
    "        Example\n",
    "        -------------\n",
    "        Input: (('yes', 34, 'poor'), label)\n",
    "        Output: (1, 34, 1)\n",
    "        \"\"\"\n",
    "        def transform(c):\n",
    "            smoke, diet, age = 0, 0, c[0][1]\n",
    "            if c[0][0] == \"yes\":\n",
    "                smoke = 1\n",
    "            if c[0][2] == \"poor\":\n",
    "                diet = 1\n",
    "            return (smoke, age, diet)\n",
    "        \n",
    "        \"\"\"\n",
    "        Example: [('yes', 34, 'poor'), ('yes', 34, 'good')] ~> [(1, 34, 1), (1, 34, 0) ]\n",
    "        \"\"\"\n",
    "        healthyDataSet = list(map(lambda x: transform(x), list(filter (lambda x: x[1] == \"less\", dataset))))\n",
    "        riskyDataSet = list(map(lambda x: transform(x), list(filter (lambda x: x[1] == \"more\", dataset))))\n",
    "        \n",
    "        \"\"\"\n",
    "        Takes a list of 3-dimensional vectors and returns the means vector.\n",
    "        \n",
    "        Parameters\n",
    "        -------------\n",
    "        dataset: (smoke: int, age: int, diet: int)\n",
    "        \n",
    "        Return\n",
    "        -------------\n",
    "        mean vector of the dataset: (average of smoke, average of age, average of diet)\n",
    "        \"\"\"\n",
    "        def computeAverage(dataSet):\n",
    "            avg = (0,0,0)\n",
    "            size = float(len(dataSet))\n",
    "            for n in dataSet: \n",
    "                avg = (avg[0] + n[0], avg[1] + n[1], avg[2] + n[2])\n",
    "            return (avg[0] / size, avg[1]/ size, avg[2]/ size)\n",
    "        \n",
    "        \"\"\"\n",
    "        This is our trained machine learning model. It has two keys, each containing \n",
    "        the 3-dimensional features vector. \n",
    "        \n",
    "        Example\n",
    "        --------------\n",
    "        {\n",
    "                     SMOKER  AGE   DIET \n",
    "            \"less\": ( 0.33, 32.0, 0.222 ),\n",
    "            \"more\": ( 0.57, 37.0,  0.57 ) \n",
    "        }\n",
    "        \"\"\"\n",
    "        model = {\n",
    "            \"less\": computeAverage(healthyDataSet), \n",
    "            \"more\": computeAverage(riskyDataSet)\n",
    "        }\n",
    "        \n",
    "        return model\n",
    "\n",
    "    def predict(self, x):\n",
    "        # >>>>> YOUR CODE HERE\n",
    "        \"\"\"\n",
    "        Parameter\n",
    "        ------------\n",
    "        x: (testVector: (smoke: str, age: int, diet: str), model: Dictionary)\n",
    "\n",
    "        testVector ... a 3-dimensional vector (age) for which we want to predict the class label\n",
    "        model      ... the model that is returned by the method `train()`\n",
    "        \"\"\"\n",
    "        def transform(c):\n",
    "            smoke, diet = 0, 0 \n",
    "            if c[0] == \"yes\":\n",
    "                smoke = 1\n",
    "            if c[2] == \"poor\":\n",
    "                diet = 1\n",
    "            return (smoke, c[1], diet)\n",
    "        \n",
    "        # vector for which the class label is predicted\n",
    "        testVector = transform(x[0])\n",
    "        # the model that runs the classification\n",
    "        model = x[1]\n",
    "        \n",
    "        \"\"\"\n",
    "        A plain distance function. Nothing special here.\n",
    "        \"\"\"\n",
    "        def d(a,b):\n",
    "            return (a[0] - b[0]) ** 2 + ((a[1] - b[1]) / 50.0) ** 2 + (a[2] - b[2]) ** 2\n",
    "        \n",
    "        # Calculate the distances\n",
    "        distanceToLess = d(testVector, model[\"less\"]) # model[\"less\"] contains the means vector of \"less\"\n",
    "        distanceToMore = d(testVector, model[\"more\"]) # model[\"more\"] contains the means vector of \"more\"\n",
    "        \n",
    "        prediction = \"less\" if distanceToLess < distanceToMore else \"more\"\n",
    "        # <<<<< END YOUR CODE\n",
    "        return prediction"
   ]
  },
  {
   "cell_type": "markdown",
   "metadata": {},
   "source": [
    "* Build an object of class `NearestMeanClassifier`, train it on the training data, and return the mean vector for each class. You should return a dictionary with keys `less` and `more`. Each key should correspond to a mean vector."
   ]
  },
  {
   "cell_type": "code",
   "execution_count": 81,
   "metadata": {
    "deletable": false,
    "nbgrader": {
     "checksum": "e41c5c9134feb3a505677bc939acc25d",
     "grade": false,
     "grade_id": "cell-5f7f00ee83c94703",
     "locked": false,
     "schema_version": 1,
     "solution": true
    }
   },
   "outputs": [],
   "source": [
    "def build_and_train():\n",
    "    # >>>>> YOUR CODE HERE\n",
    "    W = NearestMeanClassifier()\n",
    "    return W.train(gettrain())\n",
    "    # <<<<< END YOUR CODE"
   ]
  },
  {
   "cell_type": "code",
   "execution_count": null,
   "metadata": {
    "deletable": false,
    "editable": false,
    "nbgrader": {
     "checksum": "686cebaaedb7e41b87361a8408661ab1",
     "grade": true,
     "grade_id": "cell-415891bde4cbde19",
     "locked": true,
     "points": 15,
     "schema_version": 1,
     "solution": false
    }
   },
   "outputs": [],
   "source": []
  },
  {
   "cell_type": "markdown",
   "metadata": {},
   "source": [
    "* Predict the test data using the nearest mean classifier and return all test examples for which all three classifiers (decision tree, nearest neighbor and nearest mean) agree. You should return a list containing tuples. Each tuple should contain the datapoint and the prediction i.e.\n",
    "\n",
    "`[(('no', 50, 'good'), 'less'), ... ]`"
   ]
  },
  {
   "cell_type": "code",
   "execution_count": 80,
   "metadata": {
    "deletable": false,
    "nbgrader": {
     "checksum": "29945175006a71d97e57588c9c524df1",
     "grade": false,
     "grade_id": "cell-f37f3035a32a8f85",
     "locked": false,
     "schema_version": 1,
     "solution": true
    },
    "scrolled": true
   },
   "outputs": [],
   "source": [
    "def predict_test():\n",
    "    # >>>>> YOUR CODE HERE\n",
    "    \n",
    "    prediction = []\n",
    "    agreed_samples = []\n",
    "\n",
    "\n",
    "    # list of 3-dimensional vectors (smoker: str, age: int, diet: str)\n",
    "    testDataSet = gettest()\n",
    "    #((smoke, age, diet), label)\n",
    "    trainingDataSet = gettrain()\n",
    "    \n",
    "    \"\"\"\n",
    "    3-Step-Duc-Jacky-Laura machine learning algorithm\n",
    "    ----------------------------------------------------\n",
    "      (1) Initialize classifier\n",
    "      (2) Train model\n",
    "      (3) Predict\n",
    "    \"\"\"\n",
    "    W = NearestMeanClassifier()\n",
    "    model = W.train(trainingDataSet)\n",
    "    prediction += ([(x, W.predict((x, model))) for x in testDataSet])\n",
    "    \n",
    "    # Decision Tree \n",
    "    prediction += ([(x, decision(x)) for x in testDataSet])\n",
    "    \n",
    "    # Nearest Neighbor\n",
    "    prediction += ([(x, neighbor(x, trainingDataSet)) for x in testDataSet])\n",
    "    \n",
    "    \"\"\"\n",
    "    Assume the test data set contains 3 vectors. \n",
    "    prediction is a list and is structured as follows:\n",
    "    \n",
    "     0 1 2 3 4 5 6 7 8 \n",
    "    [A|A|A|B|B|B|C|C|C]\n",
    "\n",
    "    A... prediction of nearest mean classifier\n",
    "    B... prediction of decision tree\n",
    "    C... prediction of neigbor\n",
    "    \n",
    "    We compare the elements at the indeces [0], [0+len(testSet)], [0 + len(testSet) * 2] with each other.\n",
    "    That means:\n",
    "    \n",
    "     0 1 2 3 4 5 6 7 8\n",
    "    [A|A|A|B|B|B|C|C|C]\n",
    "     X     X     X\n",
    "     \n",
    "     We do this for idx = 0,1,2, ..., len(testSet) - 1.\n",
    "     \n",
    "     0 1 2 3 4 5 6 7 8\n",
    "    [A|A|A|B|B|B|C|C|C]\n",
    "       x     X     X\n",
    "    \"\"\"\n",
    "    \n",
    "    n = len(testDataSet)\n",
    "    for idx in range(0, n):\n",
    "        if prediction[idx][1] == prediction[idx+n][1] == prediction[idx+2*n][1]:\n",
    "            # if all predictions coincide add to agreed samples\n",
    "            agreed_samples += prediction[idx]\n",
    "            \n",
    "    # <<<<< END YOUR CODE\n",
    "    return agreed_samples"
   ]
  },
  {
   "cell_type": "code",
   "execution_count": null,
   "metadata": {
    "deletable": false,
    "editable": false,
    "nbgrader": {
     "checksum": "951f7d822b4c3475ab6dc89fa3c87d46",
     "grade": true,
     "grade_id": "cell-853c957eaaf81c28",
     "locked": true,
     "points": 10,
     "schema_version": 1,
     "solution": false
    }
   },
   "outputs": [],
   "source": []
  },
  {
   "cell_type": "markdown",
   "metadata": {},
   "source": [
    "._.)/\\(._."
   ]
  }
 ],
 "metadata": {
  "kernelspec": {
   "display_name": "Python 3",
   "language": "python",
   "name": "python3"
  },
  "language_info": {
   "codemirror_mode": {
    "name": "ipython",
    "version": 3
   },
   "file_extension": ".py",
   "mimetype": "text/x-python",
   "name": "python",
   "nbconvert_exporter": "python",
   "pygments_lexer": "ipython3",
   "version": "3.7.2"
  }
 },
 "nbformat": 4,
 "nbformat_minor": 1
}
