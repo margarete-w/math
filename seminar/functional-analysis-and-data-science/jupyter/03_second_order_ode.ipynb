{
  "nbformat": 4,
  "nbformat_minor": 0,
  "metadata": {
    "colab": {
      "name": "Seminar-Ex02-SecondOrderDE.ipynb",
      "provenance": [],
      "collapsed_sections": []
    },
    "kernelspec": {
      "name": "python3",
      "display_name": "Python 3"
    }
  },
  "cells": [
    {
      "cell_type": "markdown",
      "metadata": {
        "id": "j0gxsPUtMmkT",
        "colab_type": "text"
      },
      "source": [
        "# Solving Second Order Differential Equations with Neural Networks\n",
        "\n",
        "*Based on the paper [Artificial Neural Networks for Solving Ordinary and Partial Differential Equations by I. E. Lagaris, A. Likas and D. I. Fotiadis(1997)](https://arxiv.org/abs/physics/9705023)*\n",
        "\n",
        "**Problem:** Find solution of \n",
        "$$\n",
        "    u''(x) = \\underbrace{- \\frac{1}{5} u'(x) - u(x)- \\frac{1}{5} e^{-(\\frac{x}{5})} \\cos(x)}_{=f(x, u(x), u'(x))}\n",
        "$$\n",
        "\n",
        "with $u(0) = 0, \\; u'(0) = 1$ on the interval $[0,2]$. \n",
        "\n",
        "## Notation\n",
        "\n",
        "$u_N$ denotes the **trial solution** of a neural network, that we will train in the following.\n",
        "\n",
        "$u_a$ denotes the **analytic solution** or the *target function* of the ODE above. This is what our neural network should learn. The exact analytic solution of the ODE above reads \n",
        "\n",
        "$$\n",
        "    \\Psi_a(x) = \\exp(-\\frac{1}{5}x)\\sin(x) \\tag{1}.\n",
        "$$\n",
        "\n",
        "## Key Idea\n",
        "\n",
        "Write \n",
        "\n",
        "$$u_N(x) = x + x^2 N_p(x),$$\n",
        "\n",
        "where $N_p(x)$ is the neural network with training parameter $p$. We can easily see that\n",
        "\n",
        "$$\n",
        "    u_N(0) = 0 + 0 \\cdot N(0, p) = 0 \\ \n",
        "$$\n",
        "Observe that \n",
        "$$u_N'(x) = 1 + 2x  N_p(x) + x^2 N_p'(x),$$\n",
        "and therefore \n",
        "$$ u_N'(0) = 1  $$\n",
        "Thus, this ansatz satisfies the initial value condition. It just remains to adjust the parameter $p$ such that $u_N(x) = x + x^2 N_p(x)$ approximates the target function $u_a$ for any $x \\in [0,2]$ very well.\n",
        "\n",
        "## Architecture of the Neural Network\n",
        "\n",
        "We use a neural network with **one hidden layer** containing **$H=10$ neurons** and the **sigmoid function** as the activation function. The neural network has one single input layer and a single linear output layer.\n",
        "\n",
        "## Training the Neural Network\n",
        "\n",
        "Discretize $[0,2]$ such that we have a grid of $10$ equidistant points $x_1,...,x_{10} \\in [0,2]$. Define the **loss function** as\n",
        "\n",
        "$$\n",
        "    E = \\sum_{i=1}^{10} \\left(u_N''(x_i) - f(x_i, u_N(x_i), u_N'(x_i))\\right)^2,\n",
        "$$\n",
        "\n",
        "where $f$ is the right hand side of the ODE."
      ]
    },
    {
      "cell_type": "code",
      "metadata": {
        "id": "_3lMNqqQMJY6",
        "colab_type": "code",
        "colab": {}
      },
      "source": [
        "%matplotlib inline\n",
        "%tensorflow_version 1.x \n",
        "import tensorflow as tf\n",
        "import numpy as np\n",
        "import matplotlib.pyplot as plt\n",
        "import time"
      ],
      "execution_count": 0,
      "outputs": []
    },
    {
      "cell_type": "code",
      "metadata": {
        "id": "gtuYChdfMU0I",
        "colab_type": "code",
        "colab": {}
      },
      "source": [
        "# domain of the solution\n",
        "DOMAIN = [0.0, 2.0]\n",
        "\n",
        "# number of neurons in the hidden layer\n",
        "WIDTH = 10 \n",
        "\n",
        "# number of discretization points/ number of training points\n",
        "NUM_TRAINING_POINTS = 10\n",
        "\n",
        "# number of neurons in the input layer\n",
        "INPUT_DIMENSION = 1\n",
        "\n",
        "# grid of equidistant points in the DOMAIN\n",
        "TRAINING_POINTS = xs = np.linspace(DOMAIN[0], DOMAIN[1], NUM_TRAINING_POINTS)\n",
        "\n",
        "# see formula (1)\n",
        "def target_func(x):\n",
        "    return np.exp(-0.2*x)*np.sin(x)"
      ],
      "execution_count": 0,
      "outputs": []
    },
    {
      "cell_type": "markdown",
      "metadata": {
        "id": "yytGUWw-UUu4",
        "colab_type": "text"
      },
      "source": [
        "Next, we construct our shallow neural network (one hidden layer)."
      ]
    },
    {
      "cell_type": "code",
      "metadata": {
        "id": "oCKm6QonT399",
        "colab_type": "code",
        "outputId": "af151f7a-f195-41da-a8aa-e3728d080a14",
        "colab": {
          "base_uri": "https://localhost:8080/",
          "height": 153
        }
      },
      "source": [
        "initializer = tf.contrib.layers.xavier_initializer()\n",
        "\n",
        "# Input layer\n",
        "input = tf.placeholder(dtype=tf.float32, shape=(None, INPUT_DIMENSION, ), name=\"input\")\n",
        "batch_size = tf.shape(input)[0]\n",
        "# Hidden layer\n",
        "W = tf.Variable(initializer((WIDTH, INPUT_DIMENSION)), dtype=tf.float32, name=\"W\") # Weights first hidden layer\n",
        "b = tf.Variable(initializer((WIDTH,)), dtype=tf.float32, name=\"b\") # Bias\n",
        "\n",
        "z = tf.matmul(tf.broadcast_to(W, [batch_size,WIDTH,INPUT_DIMENSION] ), tf.reshape(input, shape=[-1, INPUT_DIMENSION, 1]))\n",
        "z = z + tf.reshape(b, shape=(WIDTH, 1))\n",
        "sigmoid_z = tf.nn.sigmoid(z)\n",
        "\n",
        "# Single Output layer\n",
        "v = tf.Variable(initializer((1,WIDTH)), dtype=tf.float32, name=\"v\") # Weights output layer\n",
        "output = tf.reshape(tf.matmul(tf.broadcast_to(v,[batch_size,1,WIDTH]), sigmoid_z), [-1,1,])\n"
      ],
      "execution_count": 0,
      "outputs": [
        {
          "output_type": "stream",
          "text": [
            "WARNING:tensorflow:\n",
            "The TensorFlow contrib module will not be included in TensorFlow 2.0.\n",
            "For more information, please see:\n",
            "  * https://github.com/tensorflow/community/blob/master/rfcs/20180907-contrib-sunset.md\n",
            "  * https://github.com/tensorflow/addons\n",
            "  * https://github.com/tensorflow/io (for I/O related ops)\n",
            "If you depend on functionality not listed there, please file an issue.\n",
            "\n"
          ],
          "name": "stdout"
        }
      ]
    },
    {
      "cell_type": "markdown",
      "metadata": {
        "id": "iYWwF9Rdqfdq",
        "colab_type": "text"
      },
      "source": [
        "Here we will construct the trial solution $u_N$ and the first and second derivative of $u_N$\n",
        "$$u_N(x) = x + x^2 N_p(x) $$\n",
        "$$ u_N'(x) = 1 + 2x  N_p(x) + x^2 N_p'(x) $$\n",
        "\n",
        "$$ u_N''(x) = 2 N_p(x) + 4 N_p'(x) + x^2 N_p''(x) $$"
      ]
    },
    {
      "cell_type": "code",
      "metadata": {
        "id": "gqs-viYvqTCa",
        "colab_type": "code",
        "colab": {}
      },
      "source": [
        "# trial solution u_N(x) = x + x^2 N_p(x)\n",
        "u = input + input* input * output \n",
        "\n",
        "# compute first derivative of u_N, u_N'(x) = 1 + 2x N_p(x) + x^2 N_p'(x)\n",
        "vW = tf.multiply(tf.reshape(W, [WIDTH]), v)\n",
        "sigmd1 = tf.multiply(tf.sigmoid(z), (1-tf.sigmoid(z)))\n",
        "prod1 = tf.multiply(tf.reshape(vW, shape = (1, -1, 1)), sigmd1)\n",
        "dN1 = tf.reduce_sum(prod1, axis = 1) # first derivative of N \n",
        "du1 = 1 + 2 * input * output + input*input * dN1\n",
        "\n",
        "# compute second derivative of u_N, u_N''(x) = 2 N_p(x) + 4 x N_p'(x)+ x^2 N_p''(x)\n",
        "W2 = W*W\n",
        "vW2 = tf.multiply(tf.reshape(W2, [WIDTH]), v)\n",
        "sigmd2 = tf.multiply(sigmd1 , (1- 2 *tf.sigmoid(z)))\n",
        "prod2 = tf.multiply(tf.reshape(vW2, shape = (1, -1, 1)), sigmd2)\n",
        "dN2 = tf.reduce_sum(prod2, axis = 1) # second derivative of N \n",
        "du2 = tf.add ( tf.add(2 * output, 4* input * dN1), input * input * dN2 )\n",
        "\n",
        "# right hand side of ODE\n",
        "f = -0.2 * du1 - u - tf.multiply(tf.multiply(0.2, tf.exp(-input * 0.2 )), tf.cos(input))\n",
        "\n",
        "# loss function\n",
        "loss = tf.reduce_sum(tf.square(du2 - f))"
      ],
      "execution_count": 0,
      "outputs": []
    },
    {
      "cell_type": "markdown",
      "metadata": {
        "id": "Fn-MFhCnb8xu",
        "colab_type": "text"
      },
      "source": [
        "Training"
      ]
    },
    {
      "cell_type": "code",
      "metadata": {
        "id": "9thnHS9jVdwF",
        "colab_type": "code",
        "outputId": "ffc24501-9718-4c5a-89e2-5b32e01b64f2",
        "colab": {
          "base_uri": "https://localhost:8080/",
          "height": 475
        }
      },
      "source": [
        "# Training parameters\n",
        "#@markdown Number of training iterations\n",
        "NUM_ITER = 60000 #@param {type:\"integer\"}\n",
        "#@markdown Initial learning rate\n",
        "INIT_L_RATE = 0.1 #@param {type:\"number\"}\n",
        "#@markdown Final learning rate\n",
        "FINAL_L_RATE = 1e-8 #@param {type:\"number\"}\n",
        "\n",
        "\n",
        "global_step = tf.Variable(0, trainable=False)\n",
        "learning_rate = tf.train.exponential_decay(\n",
        "    INIT_L_RATE,\n",
        "    global_step,\n",
        "    1,\n",
        "    np.exp(np.log(FINAL_L_RATE/INIT_L_RATE) / NUM_ITER),\n",
        "    staircase=True\n",
        ")\n",
        "\n",
        "# Optimizer\n",
        "step = tf.train.AdamOptimizer(learning_rate).minimize(loss, global_step=global_step)\n",
        "\n",
        "session = tf.Session()\n",
        "session.run(tf.global_variables_initializer())\n",
        "\n",
        "ERROR_RATE = []\n",
        "HISTORY = []\n",
        "\n",
        "# Training\n",
        "t0 = time.time()\n",
        "for i in range(NUM_ITER):\n",
        "    loss_val, _  = session.run(\n",
        "        [loss, step],\n",
        "        feed_dict={ input: np.reshape(np.array(xs), (-1,1)) }    \n",
        "    )\n",
        "    if (i % 2 == 0 and i<= 300):\n",
        "        prediction = session.run([output], feed_dict={ input: np.reshape(np.linspace(0,2,100), (-1,1))})\n",
        "        HISTORY.append(prediction)\n",
        "    ERROR_RATE.append(loss_val)\n",
        "t1 = time.time()\n",
        "\n",
        "# Plotting\n",
        "plt.figure(figsize = (10,7))\n",
        "plt.title(\"Loss value for each optimization step (log scale)\")\n",
        "plt.yscale(\"log\")\n",
        "plt.xlabel(\"Iteration\")\n",
        "plt.ylabel(\"Loss value\")\n",
        "plt.plot(ERROR_RATE)\n",
        "\n",
        "print(\"Loss value: {:0.9f}\".format(ERROR_RATE[-1]), 'Elapsed time{:0.5f}'.format(float(t1-t0)))"
      ],
      "execution_count": 0,
      "outputs": [
        {
          "output_type": "stream",
          "text": [
            "Loss value: 0.000000015 Elapsed time53.38359\n"
          ],
          "name": "stdout"
        },
        {
          "output_type": "display_data",
          "data": {
            "image/png": "[encoded data removed]",
            "text/plain": [
              "<Figure size 720x504 with 1 Axes>"
            ]
          },
          "metadata": {
            "tags": []
          }
        }
      ]
    },
    {
      "cell_type": "markdown",
      "metadata": {
        "id": "R6Y5n7vi0OM4",
        "colab_type": "text"
      },
      "source": [
        "Compare the trial solu of the neural network with the target function."
      ]
    },
    {
      "cell_type": "code",
      "metadata": {
        "colab_type": "code",
        "outputId": "cfb50c78-f227-4386-e2c3-566152cf5414",
        "id": "yMWZnSbAbDpG",
        "cellView": "both",
        "colab": {
          "base_uri": "https://localhost:8080/",
          "height": 902
        }
      },
      "source": [
        "#@markdown Plots the functions from X_START to X_END\n",
        "X_START = 0 #@param {type:\"number\"}\n",
        "X_END =  4#@param {type:\"number\"}\n",
        "RESOLUTION = 200\n",
        "xaxis = np.linspace(X_START,X_END,RESOLUTION)\n",
        "\n",
        "target = target_func(xaxis)\n",
        "prediction = np.reshape(session.run(u,\n",
        "                        feed_dict={input: np.reshape(xaxis,(-1,1))}\n",
        "                        ), (-1,))\n",
        "\n",
        "plt.figure(0, figsize=(10,7))\n",
        "plt.plot(xaxis, prediction, label=\"Trial solution of the neural network\")\n",
        "plt.plot(xaxis, target, label=\"Target function\")\n",
        "plt.xlabel(\"x\")\n",
        "plt.ylabel(\"f(x)\")\n",
        "plt.legend(loc=0)\n",
        "\n",
        "\n",
        "plt.figure(1, figsize=(10,7))\n",
        "plt.plot(xaxis, np.absolute(prediction-target))\n",
        "plt.xlabel(\"x\")\n",
        "plt.ylabel(\"$|u_N(x) - u_a(x)|$\")\n",
        "plt.title(\"Approximation error of $u_N$ and $u_a$\")"
      ],
      "execution_count": 0,
      "outputs": [
        {
          "output_type": "execute_result",
          "data": {
            "text/plain": [
              "Text(0.5, 1.0, 'Approximation error of $u_N$ and $u_a$')"
            ]
          },
          "metadata": {
            "tags": []
          },
          "execution_count": 22
        },
        {
          "output_type": "display_data",
          "data": {
            "image/png": "[encoded data removed]",
            "text/plain": [
              "<Figure size 720x504 with 1 Axes>"
            ]
          },
          "metadata": {
            "tags": []
          }
        },
        {
          "output_type": "display_data",
          "data": {
            "image/png": "[encoded data removed]",
            "text/plain": [
              "<Figure size 720x504 with 1 Axes>"
            ]
          },
          "metadata": {
            "tags": []
          }
        }
      ]
    },
    {
      "cell_type": "code",
      "metadata": {
        "id": "xoE6LfLnV9xM",
        "colab_type": "code",
        "outputId": "1a851c0f-77f7-48c8-8cc4-69fe8f725c7a",
        "colab": {
          "base_uri": "https://localhost:8080/",
          "height": 34
        }
      },
      "source": [
        "print(\"Length of History: {}\".format(len(HISTORY)))\n",
        "xaxis = np.linspace(0,2,100)\n",
        "target = target_func(xaxis)\n",
        "\n",
        "i = 0\n",
        "for ys in HISTORY:\n",
        "    fig = plt.figure(i,figsize=(10,7),dpi=300)\n",
        "    plt.xlabel(\"x\")\n",
        "    plt.ylabel(\"f(x)\")\n",
        "    plt.axis([0.0,2.0,-0.4,1.0])\n",
        "    plt.plot(xaxis, np.reshape(ys, (-1,))* xaxis, label=\"Iteration: {}. Error: {:0.2f}\".format(2*i, ERROR_RATE[i*2]), linestyle=':', color='C0') \n",
        "    plt.plot(xaxis, target, label=\"Target function\", color='C0')\n",
        "    plt.legend(loc=1)\n",
        "    plt.savefig('{}.png'.format(i))\n",
        "    plt.close(fig)\n",
        "    i = i + 1"
      ],
      "execution_count": 0,
      "outputs": [
        {
          "output_type": "stream",
          "text": [
            "Length of History: 151\n"
          ],
          "name": "stdout"
        }
      ]
    },
    {
      "cell_type": "code",
      "metadata": {
        "id": "cf7WjybR7och",
        "colab_type": "code",
        "colab": {}
      },
      "source": [
        ""
      ],
      "execution_count": 0,
      "outputs": []
    }
  ]
}